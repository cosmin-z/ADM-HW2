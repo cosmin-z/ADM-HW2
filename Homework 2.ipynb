{
 "cells": [
  {
   "cell_type": "markdown",
   "id": "organized-judges",
   "metadata": {
    "tags": []
   },
   "source": [
    "# **Homework 2-Steam Reviews 2021**\n",
    "## **Research Questions**"
   ]
  },
  {
   "cell_type": "markdown",
   "id": "amended-relation",
   "metadata": {},
   "source": [
    "### [RQ1] Exploratory data analysis\n"
   ]
  },
  {
   "cell_type": "markdown",
   "id": "related-floating",
   "metadata": {},
   "source": [
    "---\n",
    "### [RQ2]"
   ]
  },
  {
   "cell_type": "code",
   "execution_count": null,
   "id": "valued-biodiversity",
   "metadata": {},
   "outputs": [],
   "source": [
    "!pip3 install --upgrade pip\n",
    "!pip install kaggle"
   ]
  },
  {
   "cell_type": "code",
   "execution_count": null,
   "id": "instrumental-string",
   "metadata": {},
   "outputs": [],
   "source": [
    "!kaggle datasets download -d najzeko/steam-reviews-2021"
   ]
  },
  {
   "cell_type": "code",
   "execution_count": null,
   "id": "hungarian-variety",
   "metadata": {},
   "outputs": [],
   "source": [
    "!unzip steam-reviews-2021.zip"
   ]
  },
  {
   "cell_type": "code",
   "execution_count": null,
   "id": "smooth-masters",
   "metadata": {},
   "outputs": [],
   "source": [
    "!pip3 install matplotlib"
   ]
  },
  {
   "cell_type": "code",
   "execution_count": 5,
   "id": "polished-reflection",
   "metadata": {},
   "outputs": [
    {
     "data": {
      "text/plain": [
       "<AxesSubplot:xlabel='app_name'>"
      ]
     },
     "execution_count": 5,
     "metadata": {},
     "output_type": "execute_result"
    },
    {
     "data": {
      "image/png": "[encoded data removed]",
      "text/plain": [
       "<Figure size 432x288 with 1 Axes>"
      ]
     },
     "metadata": {
      "needs_background": "light"
     },
     "output_type": "display_data"
    }
   ],
   "source": [
    "import pandas as pd\n",
    "%matplotlib inline\n",
    "import matplotlib.pyplot as plt\n",
    "dataset = pd.read_csv('./steam_reviews.csv', header='infer', nrows=2000000)\n",
    "dataset.groupby('app_name').review.count().plot.bar()\n",
    "#I grouped by \"app_name\", selected review column, count the rewivew for the single app and eventually plot them "
   ]
  },
  {
   "cell_type": "code",
   "execution_count": 15,
   "id": "christian-volunteer",
   "metadata": {},
   "outputs": [
    {
     "name": "stdout",
     "output_type": "stream",
     "text": [
      "X Rebirth 0.38045\n",
      "Counter-Strike: Source 0.18269\n",
      "Half-Life 2: Episode Two 0.17264\n",
      "Half-Life 0.16240\n",
      "Dead by Daylight 0.16131\n"
     ]
    }
   ],
   "source": [
    "maxScore = dataset.groupby('app_name').weighted_vote_score.mean()\n",
    "topTen = maxScore.sort_values(ascending=False)\n",
    "for i in range(5):\n",
    "    print(topTen.index[i] , format(topTen[i],'.5f'))\n",
    "#through weighted_vote_score I've done the mean. In the end I showed the 5 with the highest rating"
   ]
  },
  {
   "cell_type": "code",
   "execution_count": 34,
   "id": "bulgarian-sound",
   "metadata": {},
   "outputs": [
    {
     "name": "stdout",
     "output_type": "stream",
     "text": [
      "the application with more recommendations is:  The Witcher 3: Wild Hunt whit 468691\n",
      "the application with fewer recommendations is:  X Rebirth whit 7001\n"
     ]
    }
   ],
   "source": [
    "#I grouped by \"app_name\", I've select just the column with recommended equal to true, selected recommended column, count \n",
    "min = dataset[dataset['recommended'] == True].groupby('app_name').recommended.count()\n",
    "max = dataset[dataset['recommended'] == True].groupby('app_name').recommended.count()\n",
    "print(\"the application with more recommendations is: \", df.idxmax(), \"with\",df.loc[df.idxmax()])\n",
    "print(\"the application with fewer recommendations is: \", df.idxmin(), \"with\",df.loc[df.idxmin()])"
   ]
  },
  {
   "cell_type": "code",
   "execution_count": 104,
   "id": "atomic-clearing",
   "metadata": {},
   "outputs": [
    {
     "name": "stdout",
     "output_type": "stream",
     "text": [
      "List of those that have been purchased\n",
      "Counter-Strike: Source : 74817\n",
      "Garry's Mod : 81956\n",
      "Half-Life : 43875\n",
      "Half-Life 2: Episode Two : 17538\n",
      "Portal 2 : 182952\n",
      "The Witcher 3: Wild Hunt : 429409\n",
      "X Rebirth : 4934\n",
      "\n",
      "List of those that have been received for free\n",
      "Counter-Strike: Source : 5082\n",
      "Garry's Mod : 4626\n",
      "Half-Life : 2799\n",
      "Half-Life 2: Episode Two : 897\n",
      "Portal 2 : 5779\n",
      "The Witcher 3: Wild Hunt : 5748\n",
      "X Rebirth : 35\n"
     ]
    }
   ],
   "source": [
    "purchase = dataset[dataset['steam_purchase'] == True].groupby('app_name').steam_purchase.value_counts()\n",
    "purchase_free = dataset[dataset['received_for_free'] == True].groupby('app_name').received_for_free.value_counts()\n",
    "print(\"List of those that have been purchased\")\n",
    "for i in range(len(purchase)):\n",
    "    print(purchase.index[i][0], \":\", purchase[i])\n",
    "print(\"\\nList of those that have been received for free\")\n",
    "for i in range(len(purchase)):\n",
    "    print(purchase_free.index[i][0], \":\", purchase_free[i])\n"
   ]
  },
  {
   "cell_type": "code",
   "execution_count": null,
   "id": "moral-healthcare",
   "metadata": {},
   "outputs": [],
   "source": []
  },
  {
   "cell_type": "markdown",
   "id": "equal-punishment",
   "metadata": {},
   "source": [
    "---\n",
    "### [RQ3]"
   ]
  },
  {
   "cell_type": "code",
   "execution_count": 122,
   "id": "royal-grass",
   "metadata": {},
   "outputs": [],
   "source": [
    "import pandas as pd"
   ]
  },
  {
   "cell_type": "code",
   "execution_count": 123,
   "id": "absolute-glenn",
   "metadata": {},
   "outputs": [],
   "source": [
    "# We will use the parser seen during lectures \n",
    "def dateparse(time_in_secs):\n",
    "    return pd.to_datetime(time_in_secs, unit='s')"
   ]
  },
  {
   "cell_type": "code",
   "execution_count": 124,
   "id": "undefined-surfing",
   "metadata": {},
   "outputs": [],
   "source": [
    "steam_small = pd.read_csv('C:/Users/Filippo/Desktop/università/ADM/steam_reviews.csv',header='infer',parse_dates=['timestamp_created','timestamp_updated', 'author.last_played'],date_parser=dateparse)"
   ]
  },
  {
   "cell_type": "code",
   "execution_count": 125,
   "id": "affected-sacrifice",
   "metadata": {},
   "outputs": [
    {
     "name": "stdout",
     "output_type": "stream",
     "text": [
      "most common time of writing: 15:54:53 \n",
      "number of occurrences: 583\n"
     ]
    }
   ],
   "source": [
    "# With a simple query we isolate the feature we need, excluding the date part and with value_counts() we group the creation variable\n",
    "creation = steam_small.timestamp_created.dt.time\n",
    "print(\"Most common time of writing:\",creation.value_counts().index[0],\"\\nNumber of occurrences:\", creation.value_counts()[0])"
   ]
  },
  {
   "cell_type": "code",
   "execution_count": 126,
   "id": "colored-resource",
   "metadata": {},
   "outputs": [],
   "source": [
    "def rev_counts(time_intervals):\n",
    "    # First we ccreate the variable of interest\n",
    "    hours = steam_small.timestamp_created.dt.hour\n",
    "    # Then a long procedure to engineer the input: parse, extract hours and sort. At last we append 24 to include reviews written between 8 pm and 12 pm\n",
    "    time_intervals = pd.Series(time_intervals)\n",
    "    time_intervals = pd.to_datetime(time_intervals,infer_datetime_format=True)\n",
    "    time_intervals = time_intervals.dt.hour\n",
    "    time_intervals = sorted(time_intervals)\n",
    "    time_intervals.append(24)\n",
    "    # We then bin the variable of interest with the newly created bins, group the results and plot \n",
    "    bins = pd.cut(hours,time_intervals)\n",
    "    return bins.value_counts(sort=False).plot(kind='bar',title='Number of reviews by time interval',colormap='plasma',grid=True,rot=45)\n",
    "    "
   ]
  },
  {
   "cell_type": "code",
   "execution_count": 127,
   "id": "vocational-emphasis",
   "metadata": {},
   "outputs": [
    {
     "data": {
      "text/plain": [
       "<AxesSubplot:title={'center':'Number of reviews by time interval'}>"
      ]
     },
     "execution_count": 127,
     "metadata": {},
     "output_type": "execute_result"
    },
    {
     "data": {
      "image/png": "[encoded data removed]",
      "text/plain": [
       "<Figure size 432x288 with 1 Axes>"
      ]
     },
     "metadata": {
      "needs_background": "light"
     },
     "output_type": "display_data"
    }
   ],
   "source": [
    "times = ['06:00:00','11:00:00','14:00:00','17:00:00','20:00:00','00:00:00','03:00:00']\n",
    "rev_counts(times)"
   ]
  },
  {
   "cell_type": "markdown",
   "id": "possible-panic",
   "metadata": {},
   "source": [
    "---\n",
    "### [RQ4]"
   ]
  },
  {
   "cell_type": "code",
   "execution_count": 1,
   "id": "featured-castle",
   "metadata": {},
   "outputs": [],
   "source": [
    "import pandas as pd"
   ]
  },
  {
   "cell_type": "code",
   "execution_count": 2,
   "id": "latter-mileage",
   "metadata": {},
   "outputs": [],
   "source": [
    "dataset = pd.read_csv('steam_reviews.csv', header='infer', nrows=1000000)"
   ]
  },
  {
   "cell_type": "code",
   "execution_count": 3,
   "id": "stunning-coach",
   "metadata": {},
   "outputs": [
    {
     "name": "stdout",
     "output_type": "stream",
     "text": [
      "english russian schinese\n"
     ]
    }
   ],
   "source": [
    "top_language_n = 3\n",
    "top_language = dataset.loc[:,'language'].value_counts()\\\n",
    "[:top_language_n].sort_values(ascending=False)\n",
    "print(*top_language.index.array)"
   ]
  },
  {
   "cell_type": "code",
   "execution_count": 4,
   "id": "primary-furniture",
   "metadata": {},
   "outputs": [],
   "source": [
    "def language_fillter(dataset, languages):\n",
    "    cmlg = pd.DataFrame(columns=dataset.columns.values) \n",
    "    for lg in languages:\n",
    "        cmlg = cmlg.append(dataset[dataset.language == lg])\n",
    "    return cmlg\n",
    "        "
   ]
  },
  {
   "cell_type": "code",
   "execution_count": 121,
   "id": "constant-horizontal",
   "metadata": {},
   "outputs": [
    {
     "ename": "NameError",
     "evalue": "name 'language_fillter' is not defined",
     "output_type": "error",
     "traceback": [
      "\u001b[0;31m---------------------------------------------------------------------------\u001b[0m",
      "\u001b[0;31mNameError\u001b[0m                                 Traceback (most recent call last)",
      "\u001b[0;32m<ipython-input-121-6cb6029e25e4>\u001b[0m in \u001b[0;36m<module>\u001b[0;34m\u001b[0m\n\u001b[0;32m----> 1\u001b[0;31m \u001b[0mtr\u001b[0m \u001b[0;34m=\u001b[0m \u001b[0mlanguage_fillter\u001b[0m\u001b[0;34m(\u001b[0m\u001b[0mdataset\u001b[0m\u001b[0;34m,\u001b[0m \u001b[0mtop_language\u001b[0m\u001b[0;34m.\u001b[0m\u001b[0mindex\u001b[0m\u001b[0;34m.\u001b[0m\u001b[0marray\u001b[0m\u001b[0;34m)\u001b[0m\u001b[0;34m\u001b[0m\u001b[0;34m\u001b[0m\u001b[0m\n\u001b[0m\u001b[1;32m      2\u001b[0m \u001b[0mresult\u001b[0m \u001b[0;34m=\u001b[0m \u001b[0mtr\u001b[0m\u001b[0;34m[\u001b[0m\u001b[0mtr\u001b[0m\u001b[0;34m.\u001b[0m\u001b[0mvotes_funny\u001b[0m \u001b[0;34m>\u001b[0m \u001b[0;36m0\u001b[0m\u001b[0;34m]\u001b[0m\u001b[0;34m\u001b[0m\u001b[0;34m\u001b[0m\u001b[0m\n\u001b[1;32m      3\u001b[0m \u001b[0mprint\u001b[0m\u001b[0;34m(\u001b[0m\u001b[0;34m(\u001b[0m\u001b[0mlen\u001b[0m\u001b[0;34m(\u001b[0m\u001b[0mresult\u001b[0m\u001b[0;34m)\u001b[0m\u001b[0;34m/\u001b[0m\u001b[0mlen\u001b[0m\u001b[0;34m(\u001b[0m\u001b[0mtr\u001b[0m\u001b[0;34m)\u001b[0m\u001b[0;34m)\u001b[0m\u001b[0;34m*\u001b[0m\u001b[0;36m100\u001b[0m\u001b[0;34m)\u001b[0m\u001b[0;34m\u001b[0m\u001b[0;34m\u001b[0m\u001b[0m\n",
      "\u001b[0;31mNameError\u001b[0m: name 'language_fillter' is not defined"
     ]
    }
   ],
   "source": [
    "tr = language_fillter(dataset, top_language.index.array)\n",
    "result = tr[tr.votes_funny > 0]\n",
    "print((len(result)/len(tr))*100)"
   ]
  },
  {
   "cell_type": "code",
   "execution_count": 6,
   "id": "still-classic",
   "metadata": {},
   "outputs": [
    {
     "name": "stdout",
     "output_type": "stream",
     "text": [
      "26.138125370351688\n"
     ]
    }
   ],
   "source": [
    "result = tr[tr.votes_helpful > 0]\n",
    "print((len(result)/len(tr))*100)"
   ]
  },
  {
   "cell_type": "markdown",
   "id": "starting-treasure",
   "metadata": {},
   "source": [
    "---\n",
    "### [RQ5]"
   ]
  },
  {
   "cell_type": "code",
   "execution_count": 6,
   "id": "numerous-population",
   "metadata": {},
   "outputs": [
    {
     "data": {
      "text/plain": [
       "author.steamid\n",
       "76561197974092119    24206\n",
       "76561198116879965    23975\n",
       "76561198125392509    20944\n",
       "76561197960373660    20685\n",
       "76561198045381877    16624\n",
       "76561198094803808    15752\n",
       "76561198030784015    13891\n",
       "76561198118629775    13738\n",
       "76561198013146396    11489\n",
       "76561198191189787    11027\n",
       "Name: author.num_reviews, dtype: int64"
      ]
     },
     "execution_count": 6,
     "metadata": {},
     "output_type": "execute_result"
    }
   ],
   "source": [
    "import pandas as pd\n",
    "%matplotlib inline\n",
    "import matplotlib.pyplot as plt\n",
    "dataset = pd.read_csv('./steam_reviews.csv', header='infer', nrows=2000000)\n",
    "df = dataset.groupby('author.steamid')['author.num_reviews'].sum() \n",
    "df.sort_values(ascending=False).head(10)"
   ]
  },
  {
   "cell_type": "code",
   "execution_count": 7,
   "id": "adequate-cricket",
   "metadata": {},
   "outputs": [
    {
     "data": {
      "text/plain": [
       "468155    The Witcher 3: Wild Hunt\n",
       "522006                   Half-Life\n",
       "574858      Counter-Strike: Source\n",
       "655868    Half-Life 2: Episode Two\n",
       "896474                    Portal 2\n",
       "Name: app_name, dtype: object"
      ]
     },
     "execution_count": 7,
     "metadata": {},
     "output_type": "execute_result"
    }
   ],
   "source": [
    "mostPopularAuthor = df.sort_values(ascending=False).head(10).idxmax()\n",
    "pd.set_option('display.max_rows', None)\n",
    "dataset[dataset['author.steamid'] == mostPopularAuthor].app_name.head()\n",
    "#the first line si the id"
   ]
  },
  {
   "cell_type": "code",
   "execution_count": 159,
   "id": "scientific-endorsement",
   "metadata": {},
   "outputs": [
    {
     "name": "stdout",
     "output_type": "stream",
     "text": [
      "number of applications purchased :  0 in percentage 0.00 %\n",
      "number of applications purchased for free:  2 in percentage 28.57 %\n"
     ]
    }
   ],
   "source": [
    "countNumber = dataset[(dataset['author.steamid'] == mostPopularAuthor)].steam_purchase.value_counts()\n",
    "perctNumber = dataset[(dataset['author.steamid'] == mostPopularAuthor)].steam_purchase.value_counts(normalize=True) * 100\n",
    "if(True in countNumber):\n",
    "    countNumber = countNumber.loc[countNumber.index == True].item()\n",
    "    perctNumber = perctNumber.loc[perctNumber.index == True].item()\n",
    "else:\n",
    "    countNumber = 0\n",
    "    perctNumber = 0\n",
    "print('number of applications purchased : ', countNumber , 'in percentage', format(perctNumber, '.2f') , '%')\n",
    "\n",
    "countNumber = dataset[(dataset['author.steamid'] == mostPopularAuthor)].received_for_free.value_counts()\n",
    "perctNumber = dataset[(dataset['author.steamid'] == mostPopularAuthor)].received_for_free.value_counts(normalize=True) * 100\n",
    "if(True in countNumber):\n",
    "    countNumber = countNumber.loc[countNumber.index == True].item()\n",
    "    perctNumber = perctNumber.loc[perctNumber.index == True].item()\n",
    "else:\n",
    "    countNumber = 0\n",
    "    perctNumber = 0\n",
    "print('number of applications purchased for free: ', countNumber , 'in percentage', format(perctNumber, '.2f') , '%')\n",
    "\n"
   ]
  },
  {
   "cell_type": "code",
   "execution_count": 233,
   "id": "alike-client",
   "metadata": {},
   "outputs": [
    {
     "name": "stdout",
     "output_type": "stream",
     "text": [
      "of the applications purchased 1 was/were positively reviewed \n",
      "\n",
      "of the applications purchased 2 was/were negatively reviewed\n"
     ]
    }
   ],
   "source": [
    "reviewNumber = dataset[(dataset['author.steamid'] == 76561198030784015 ) & (dataset['steam_purchase']==False)].recommended.value_counts()\n",
    "if(True in reviewNumber.loc[reviewNumber.index == True]):\n",
    "    positive = reviewNumber.loc[reviewNumber.index == True].item()\n",
    "else:\n",
    "    positive = 0\n",
    "if(False in reviewNumber.loc[reviewNumber.index == False]):\n",
    "    negative = reviewNumber.loc[reviewNumber.index == False].item()\n",
    "else:\n",
    "    negative = 0\n",
    "\n",
    "print('of the applications purchased', positive ,'was/were positively reviewed \\n')\n",
    "print('of the applications purchased', negative ,'was/were negatively reviewed')"
   ]
  },
  {
   "cell_type": "markdown",
   "id": "sunrise-shore",
   "metadata": {},
   "source": [
    "---\n",
    "### [RQ6]"
   ]
  },
  {
   "cell_type": "code",
   "execution_count": null,
   "id": "quick-drawing",
   "metadata": {},
   "outputs": [],
   "source": []
  },
  {
   "cell_type": "markdown",
   "id": "commercial-maple",
   "metadata": {},
   "source": [
    "---\n",
    "### [RQ7]"
   ]
  },
  {
   "cell_type": "code",
   "execution_count": 36,
   "id": "median-beatles",
   "metadata": {},
   "outputs": [],
   "source": [
    "import pandas as pd\n",
    "dataset = pd.read_csv('D:/ADM/steam_reviews.csv', header='infer')"
   ]
  },
  {
   "cell_type": "code",
   "execution_count": 37,
   "id": "powerful-disclosure",
   "metadata": {},
   "outputs": [
    {
     "name": "stdout",
     "output_type": "stream",
     "text": [
      "The probability is equal to: 0.21998484322541792\n"
     ]
    }
   ],
   "source": [
    "# We just query the results and sum the boolean values.\n",
    "print(\"The probability is equal to:\",sum(dataset.weighted_vote_score >= 0.5) / len(dataset.weighted_vote_score))\n"
   ]
  },
  {
   "cell_type": "markdown",
   "id": "moderate-premises",
   "metadata": {},
   "source": [
    "---\n",
    "So the probability of the event \"a review has at least one vote as funny given that the Weighted Vote Score is bigger than 0.5\" given that it is a conditioned prob is equal to: \n",
    "> $P(Exists  funny | wvs > 0.5)=\\frac{P(Exists  funny, wvs > 0.5)}{P(wvs > 0.5)}$ \n",
    "\n",
    "where wvs is weighted_vote_score\n"
   ]
  },
  {
   "cell_type": "code",
   "execution_count": 38,
   "id": "disciplinary-turner",
   "metadata": {},
   "outputs": [
    {
     "name": "stdout",
     "output_type": "stream",
     "text": [
      "Probability that a review that has a wvs bigger than 0.5 has also at least one vote as funny: 0.24978288914523247\n"
     ]
    }
   ],
   "source": [
    "# P(wvs > 0.5)\n",
    "P_denom = sum(dataset.weighted_vote_score > 0.5) / len(dataset.weighted_vote_score)\n",
    "\n",
    "# P(Exists funny, wvs > 0.5)\n",
    "tmp = dataset[dataset['weighted_vote_score'] > 0.5]\n",
    "event = sum(tmp.votes_funny > 0)\n",
    "P_num = event / len(dataset)\n",
    "# Then we compute P(Exist funny | wvs > 0.5)\n",
    "print(\"Probability that a review that has a wvs bigger than 0.5 has also at least one vote as funny:\", P_num/P_denom)"
   ]
  },
  {
   "cell_type": "markdown",
   "id": "apart-attitude",
   "metadata": {},
   "source": [
    "In order to look for independence between 2 events we need to compute the probability of the intersection of these events and if it's equal to the product of the probability of these events then we have independence.\n",
    "> $P(A \\cap B) = P(A)P(B)$"
   ]
  },
  {
   "cell_type": "code",
   "execution_count": 39,
   "id": "touched-syria",
   "metadata": {},
   "outputs": [
    {
     "name": "stdout",
     "output_type": "stream",
     "text": [
      "Q: Are these events independent?\n",
      "A: False\n"
     ]
    }
   ],
   "source": [
    "# as such we already did some of these calculations before\n",
    "# P(wvs > 0.5) is  P_denom\n",
    "# P(Exists funny, wvs > 0.5) is P_num\n",
    "# we need P(Exists funny)\n",
    "P_EF = sum(dataset.votes_funny > 0)/len(dataset)\n",
    "print(\"Q: Are these events independent?\\nA:\",P_num==P_denom*P_EF)"
   ]
  },
  {
   "cell_type": "markdown",
   "id": "fluid-billion",
   "metadata": {},
   "source": [
    "looks like they aren't :("
   ]
  },
  {
   "cell_type": "markdown",
   "id": "5d3a745d-41a2-44b7-b146-369fb494e0cc",
   "metadata": {},
   "source": [
    "---\n",
    "### [RQ8]"
   ]
  },
  {
   "cell_type": "markdown",
   "id": "64a7cda3-b36a-4c2a-86e3-5acf18b40603",
   "metadata": {},
   "source": [
    "In order to test whether the values from the two groupings of the weighted vote score variable come from the same population when we group chinese and russian reviews we want to run a Mann-Whitney test between the two vectors. First we extract these datasets and then we proceed with the analysis thanks to the scipy library "
   ]
  },
  {
   "cell_type": "code",
   "execution_count": 1,
   "id": "87fca7e9-4d4e-49d6-8896-dd528efb13aa",
   "metadata": {},
   "outputs": [],
   "source": [
    "import pandas as pd\n",
    "dataset = pd.read_csv('D:/ADM/steam_reviews.csv', header='infer',nrows=2000000)"
   ]
  },
  {
   "cell_type": "code",
   "execution_count": 4,
   "id": "f0408228-639e-4a91-b1f4-bc2bb7310dcc",
   "metadata": {},
   "outputs": [],
   "source": [
    "# data extraction\n",
    "Rus = dataset[dataset['language']=='russian']\n",
    "Chi = dataset[dataset['language']=='schinese']"
   ]
  },
  {
   "cell_type": "code",
   "execution_count": 5,
   "id": "5f34eb8d-2330-419f-bc1d-551c18217d70",
   "metadata": {},
   "outputs": [],
   "source": [
    "import scipy.stats"
   ]
  },
  {
   "cell_type": "code",
   "execution_count": 13,
   "id": "93302c44-3a46-4d20-bd21-62b3a300283e",
   "metadata": {},
   "outputs": [
    {
     "name": "stdout",
     "output_type": "stream",
     "text": [
      "p-value for the U test 0.0\n"
     ]
    }
   ],
   "source": [
    "# we run the test and look whether the p-value is bigger than\n",
    "output = scipy.stats.mannwhitneyu(Rus.weighted_vote_score,Chi.weighted_vote_score,alternative='two-sided')\n",
    "print(\"p-value for the U test\",output.pvalue)"
   ]
  },
  {
   "cell_type": "markdown",
   "id": "343a7105-2901-45e6-90af-d54ac4c107e7",
   "metadata": {},
   "source": [
    "As expected the two variables have a p-value below 0.05, so we reject the null hypothesis that the two samples come from the same population, for further discussion we will now plot the histograms of the two variables"
   ]
  },
  {
   "cell_type": "code",
   "execution_count": 10,
   "id": "45a9ee5b-5e64-4be3-8917-74225176169c",
   "metadata": {},
   "outputs": [],
   "source": [
    "import matplotlib.pyplot as plt"
   ]
  },
  {
   "cell_type": "code",
   "execution_count": 14,
   "id": "673569e0-975d-4817-b40b-ead7d5c4668e",
   "metadata": {},
   "outputs": [
    {
     "data": {
      "image/png": "[encoded data removed]",
      "text/plain": [
       "<Figure size 432x288 with 1 Axes>"
      ]
     },
     "metadata": {
      "needs_background": "light"
     },
     "output_type": "display_data"
    }
   ],
   "source": [
    "plt.hist(Rus.weighted_vote_score)\n",
    "plt.title('Russian weighted vote score')\n",
    "plt.show()"
   ]
  },
  {
   "cell_type": "code",
   "execution_count": 15,
   "id": "8dc703a4-8fb7-4bb3-bb8a-e194b3fb0bb2",
   "metadata": {},
   "outputs": [
    {
     "data": {
      "image/png": "[encoded data removed]",
      "text/plain": [
       "<Figure size 432x288 with 1 Axes>"
      ]
     },
     "metadata": {
      "needs_background": "light"
     },
     "output_type": "display_data"
    }
   ],
   "source": [
    "plt.hist(Chi.weighted_vote_score)\n",
    "plt.title('Chinese weighted vote score')\n",
    "plt.show()"
   ]
  },
  {
   "cell_type": "markdown",
   "id": "733fba36-ec05-4785-b3a0-98c766f1f76e",
   "metadata": {},
   "source": [
    "Now, we want to see if there is a relationship between the variables weighted vote score and the time delta between the posting and updating of a review. To do so we look for a summary statistics as the correlation and then we might also try to fit a linear regression model to explain the wvs from the time delta."
   ]
  },
  {
   "cell_type": "code",
   "execution_count": 20,
   "id": "7ce56115-76f6-4883-9f4d-91ad777b207c",
   "metadata": {},
   "outputs": [
    {
     "name": "stdout",
     "output_type": "stream",
     "text": [
      "Pearson's correlation coefficent is: 0.07164844628392013\n"
     ]
    }
   ],
   "source": [
    "# feature extraction\n",
    "timedelta = dataset.timestamp_updated-dataset.timestamp_created\n",
    "wvs = dataset.weighted_vote_score\n",
    "# Correlation computation\n",
    "cor = scipy.stats.pearsonr(wvs,timedelta)\n",
    "print(\"Pearson's correlation coefficent is:\",cor[0])"
   ]
  },
  {
   "cell_type": "code",
   "execution_count": 25,
   "id": "fc34bd0d-66fe-4cb3-ad06-9734f30ebc65",
   "metadata": {},
   "outputs": [],
   "source": [
    "# This coefficient seems very low, we might want to try a linear model\n",
    "from sklearn.linear_model import LinearRegression\n",
    "import numpy as np"
   ]
  },
  {
   "cell_type": "code",
   "execution_count": 47,
   "id": "9b61e4a8-e2a2-433a-bf49-b6bc685dc37f",
   "metadata": {},
   "outputs": [
    {
     "data": {
      "text/plain": [
       "0.005133499854900081"
      ]
     },
     "execution_count": 47,
     "metadata": {},
     "output_type": "execute_result"
    }
   ],
   "source": [
    "timedelta = np.array(timedelta)\n",
    "wvs = np.array(wvs)\n",
    "model = LinearRegression()\n",
    "model.fit(timedelta.reshape(-1,1),wvs)\n",
    "slope = model.coef_\n",
    "intercept = model.intercept_ \n",
    "model.score(timedelta.reshape(-1,1),wvs)"
   ]
  },
  {
   "cell_type": "markdown",
   "id": "c60456ac-683b-4240-9497-c29ca4bc189f",
   "metadata": {},
   "source": [
    "The R squared for the regression model is very close to zero, signaling no definite relasionship between the two vectors, to further analyze this we plot the data with a scatterplot and add a red line for the regression."
   ]
  },
  {
   "cell_type": "code",
   "execution_count": 44,
   "id": "4f6f134b-de2a-425e-ad63-23b9d0db6753",
   "metadata": {},
   "outputs": [],
   "source": [
    "def abline(slope, intercept):\n",
    "    \"\"\"Plot a line from slope and intercept\"\"\"\n",
    "    axes = plt.gca()\n",
    "    x_vals = np.array(axes.get_xlim())\n",
    "    y_vals = intercept + slope * x_vals\n",
    "    plt.plot(x_vals, y_vals, '--',lw=3,color='red')"
   ]
  },
  {
   "cell_type": "code",
   "execution_count": 45,
   "id": "b3e068f8-b2bc-456a-987c-778c5a2d1aa7",
   "metadata": {},
   "outputs": [
    {
     "data": {
      "image/png": "[encoded data removed]",
      "text/plain": [
       "<Figure size 432x288 with 1 Axes>"
      ]
     },
     "metadata": {
      "needs_background": "light"
     },
     "output_type": "display_data"
    }
   ],
   "source": [
    "plt.scatter(wvs,timedelta, marker='2', cmap='plasma',alpha=0.4,color='green')\n",
    "abline(slope,intercept)\n",
    "plt.show()"
   ]
  },
  {
   "cell_type": "markdown",
   "id": "f731a352-5b66-49c8-b790-32d70d35d4c8",
   "metadata": {},
   "source": [
    "As we can see the line does not fit the data at all and there is no identifiable pattern in the data."
   ]
  },
  {
   "cell_type": "code",
   "execution_count": null,
   "id": "2d085637-660f-4aa4-a502-48b0111bdfa7",
   "metadata": {},
   "outputs": [],
   "source": []
  }
 ],
 "metadata": {
  "instance_type": "ml.t3.medium",
  "kernelspec": {
   "display_name": "Laboratorio",
   "language": "python",
   "name": "laboratorio"
  },
  "language_info": {
   "codemirror_mode": {
    "name": "ipython",
    "version": 3
   },
   "file_extension": ".py",
   "mimetype": "text/x-python",
   "name": "python",
   "nbconvert_exporter": "python",
   "pygments_lexer": "ipython3",
   "version": "3.9.2"
  }
 },
 "nbformat": 4,
 "nbformat_minor": 5
}
