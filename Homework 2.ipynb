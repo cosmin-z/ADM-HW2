{
 "cells": [
  {
   "cell_type": "markdown",
   "metadata": {
    "tags": []
   },
   "source": [
    "# **Homework 2-Steam Reviews 2021**\n",
    "## **Research Questions**"
   ]
  },
  {
   "cell_type": "markdown",
   "metadata": {},
   "source": [
    "### [RQ1] Exploratory data analysis\n"
   ]
  },
  {
   "cell_type": "markdown",
   "metadata": {},
   "source": [
    "### [RQ2]"
   ]
  },
  {
   "cell_type": "code",
   "execution_count": null,
   "metadata": {},
   "outputs": [],
   "source": [
    "!pip3 install --upgrade pip\n",
    "!pip install kaggle"
   ]
  },
  {
   "cell_type": "code",
   "execution_count": 4,
   "metadata": {},
   "outputs": [
    {
     "name": "stdout",
     "output_type": "stream",
     "text": [
      "Downloading steam-reviews-2021.zip to /root/ADM-HW2\n",
      "100%|███████████████████████████████████████| 2.97G/2.97G [00:29<00:00, 228MB/s]\n",
      "100%|███████████████████████████████████████| 2.97G/2.97G [00:31<00:00, 101MB/s]\n"
     ]
    }
   ],
   "source": [
    "!kaggle datasets download -d najzeko/steam-reviews-2021"
   ]
  },
  {
   "cell_type": "code",
   "execution_count": null,
   "metadata": {},
   "outputs": [],
   "source": [
    "unzip steam-reviews-2021.zip"
   ]
  },
  {
   "cell_type": "code",
   "execution_count": 262,
   "metadata": {},
   "outputs": [
    {
     "data": {
      "image/png": "[encoded data removed]",
      "text/plain": [
       "<Figure size 432x288 with 1 Axes>"
      ]
     },
     "metadata": {
      "needs_background": "light"
     },
     "output_type": "display_data"
    }
   ],
   "source": [
    "import pandas as pd\n",
    "dataset = pd.read_csv('./steam_reviews.csv', header='infer', nrows=1000000)\n",
    "dataset.groupby('app_name').review.count().plot.bar()\n",
    "df = dataset.groupby('app_name').review.count()"
   ]
  },
  {
   "cell_type": "code",
   "execution_count": 269,
   "metadata": {},
   "outputs": [
    {
     "data": {
      "text/plain": [
       "('The Witcher 3: Wild Hunt', 468691)"
      ]
     },
     "execution_count": 269,
     "metadata": {},
     "output_type": "execute_result"
    }
   ],
   "source": [
    "df.idxmax(), df.max()"
   ]
  },
  {
   "cell_type": "code",
   "execution_count": 275,
   "metadata": {},
   "outputs": [
    {
     "data": {
      "text/plain": [
       "('The Witcher 3: Wild Hunt', 460252, 'X Rebirth', 2970)"
      ]
     },
     "execution_count": 275,
     "metadata": {},
     "output_type": "execute_result"
    }
   ],
   "source": [
    "dataset[dataset['recommended'] == True].groupby('app_name').recommended.value_counts()\n",
    "min = dataset[dataset['recommended'] == True].groupby('app_name').recommended.value_counts()\n",
    "max = dataset[dataset['recommended'] == True].groupby('app_name').recommended.value_counts()\n",
    "\n",
    "df.idxmax()[0], df.loc[df.idxmax()], df.idxmin()[0], df.min()"
   ]
  },
  {
   "cell_type": "code",
   "execution_count": 277,
   "metadata": {},
   "outputs": [
    {
     "data": {
      "text/plain": [
       "(app_name                  steam_purchase\n",
       " Counter-Strike: Source    True               74817\n",
       " Garry's Mod               True               81956\n",
       " Half-Life                 True               43875\n",
       " Half-Life 2: Episode Two  True               17538\n",
       " Portal 2                  True              182952\n",
       " The Witcher 3: Wild Hunt  True              429409\n",
       " X Rebirth                 True                4934\n",
       " Name: steam_purchase, dtype: int64,\n",
       " app_name                  received_for_free\n",
       " Counter-Strike: Source    True                 5082\n",
       " Garry's Mod               True                 4626\n",
       " Half-Life                 True                 2799\n",
       " Half-Life 2: Episode Two  True                  897\n",
       " Portal 2                  True                 5779\n",
       " The Witcher 3: Wild Hunt  True                 5748\n",
       " X Rebirth                 True                   35\n",
       " Name: received_for_free, dtype: int64)"
      ]
     },
     "execution_count": 277,
     "metadata": {},
     "output_type": "execute_result"
    }
   ],
   "source": [
    "purchase = dataset[dataset['steam_purchase'] == True].groupby('app_name').steam_purchase.value_counts()\n",
    "purchase_free = dataset[dataset['received_for_free'] == True].groupby('app_name').received_for_free.value_counts()\n",
    "purchase, purchase_free"
   ]
  },
  {
   "cell_type": "code",
   "execution_count": null,
   "metadata": {},
   "outputs": [],
   "source": []
  },
  {
   "cell_type": "markdown",
   "metadata": {},
   "source": [
    "### [RQ3]"
   ]
  },
  {
   "cell_type": "code",
   "execution_count": 122,
   "metadata": {},
   "outputs": [],
   "source": [
    "import pandas as pd"
   ]
  },
  {
   "cell_type": "code",
   "execution_count": 123,
   "metadata": {},
   "outputs": [],
   "source": [
    "# We will use the parser seen during lectures \n",
    "def dateparse(time_in_secs):\n",
    "    return pd.to_datetime(time_in_secs, unit='s')"
   ]
  },
  {
   "cell_type": "code",
   "execution_count": 124,
   "metadata": {},
   "outputs": [],
   "source": [
    "steam_small = pd.read_csv('C:/Users/Filippo/Desktop/università/ADM/steam_reviews.csv',header='infer',parse_dates=['timestamp_created','timestamp_updated', 'author.last_played'],date_parser=dateparse)"
   ]
  },
  {
   "cell_type": "code",
   "execution_count": 125,
   "metadata": {},
   "outputs": [
    {
     "name": "stdout",
     "output_type": "stream",
     "text": [
      "most common time of writing: 15:54:53 \n",
      "number of occurrences: 583\n"
     ]
    }
   ],
   "source": [
    "# With a simple query we isolate the feature we need, excluding the date part and with value_counts() we group the creation variable\n",
    "creation = steam_small.timestamp_created.dt.time\n",
    "print(\"most common time of writing:\",creation.value_counts().index[0],\"\\nnumber of occurrences:\", creation.value_counts()[0])"
   ]
  },
  {
   "cell_type": "code",
   "execution_count": 126,
   "metadata": {},
   "outputs": [],
   "source": [
    "def rev_counts(time_intervals):\n",
    "    # First we ccreate the variable of interest\n",
    "    hours = steam_small.timestamp_created.dt.hour\n",
    "    # Then a long procedure to engineer the input: parse, extract hours and sort. At last we append 24 to include reviews written between 8 pm and 12 pm\n",
    "    time_intervals = pd.Series(time_intervals)\n",
    "    time_intervals = pd.to_datetime(time_intervals,infer_datetime_format=True)\n",
    "    time_intervals = time_intervals.dt.hour\n",
    "    time_intervals = sorted(time_intervals)\n",
    "    time_intervals.append(24)\n",
    "    # We then bin the variable of interest with the newly created bins, group the results and plot \n",
    "    bins = pd.cut(hours,time_intervals)\n",
    "    return bins.value_counts(sort=False).plot(kind='bar',title='Number of reviews by time interval',colormap='plasma',grid=True,rot=45)\n",
    "    "
   ]
  },
  {
   "cell_type": "code",
   "execution_count": 127,
   "metadata": {},
   "outputs": [
    {
     "data": {
      "text/plain": [
       "<AxesSubplot:title={'center':'Number of reviews by time interval'}>"
      ]
     },
     "execution_count": 127,
     "metadata": {},
     "output_type": "execute_result"
    },
    {
     "data": {
      "image/png": "[encoded data removed]",
      "text/plain": [
       "<Figure size 432x288 with 1 Axes>"
      ]
     },
     "metadata": {
      "needs_background": "light"
     },
     "output_type": "display_data"
    }
   ],
   "source": [
    "times = ['06:00:00','11:00:00','14:00:00','17:00:00','20:00:00','00:00:00','03:00:00']\n",
    "rev_counts(times)"
   ]
  },
  {
   "cell_type": "markdown",
   "metadata": {},
   "source": [
    "### [RQ4]"
   ]
  },
  {
   "cell_type": "code",
   "execution_count": 1,
   "metadata": {},
   "outputs": [],
   "source": [
    "import pandas as pd"
   ]
  },
  {
   "cell_type": "code",
   "execution_count": 2,
   "metadata": {},
   "outputs": [],
   "source": [
    "dataset = pd.read_csv('steam_reviews.csv', header='infer', nrows=1000000)"
   ]
  },
  {
   "cell_type": "code",
   "execution_count": 3,
   "metadata": {},
   "outputs": [
    {
     "name": "stdout",
     "output_type": "stream",
     "text": [
      "english russian schinese\n"
     ]
    }
   ],
   "source": [
    "top_language_n = 3\n",
    "top_language = dataset.loc[:,'language'].value_counts()\\\n",
    "[:top_language_n].sort_values(ascending=False)\n",
    "print(*top_language.index.array)"
   ]
  },
  {
   "cell_type": "code",
   "execution_count": 4,
   "metadata": {},
   "outputs": [],
   "source": [
    "def language_fillter(dataset, languages):\n",
    "    cmlg = pd.DataFrame(columns=dataset.columns.values) \n",
    "    for lg in languages:\n",
    "        cmlg = cmlg.append(dataset[dataset.language == lg])\n",
    "    return cmlg\n",
    "        "
   ]
  },
  {
   "cell_type": "code",
   "execution_count": 5,
   "metadata": {},
   "outputs": [
    {
     "name": "stdout",
     "output_type": "stream",
     "text": [
      "9.688186971294103\n"
     ]
    }
   ],
   "source": [
    "tr = language_fillter(dataset, top_language.index.array)\n",
    "result = tr[tr.votes_funny > 0]\n",
    "print((len(result)/len(tr))*100)"
   ]
  },
  {
   "cell_type": "code",
   "execution_count": 6,
   "metadata": {},
   "outputs": [
    {
     "name": "stdout",
     "output_type": "stream",
     "text": [
      "26.138125370351688\n"
     ]
    }
   ],
   "source": [
    "result = tr[tr.votes_helpful > 0]\n",
    "print((len(result)/len(tr))*100)"
   ]
  },
  {
   "cell_type": "code",
   "execution_count": null,
   "metadata": {},
   "outputs": [],
   "source": []
  }
 ],
 "metadata": {
  "instance_type": "ml.t3.medium",
  "kernelspec": {
   "display_name": "Python 3",
   "language": "python",
   "name": "python3"
  },
  "language_info": {
   "codemirror_mode": {
    "name": "ipython",
    "version": 3
   },
   "file_extension": ".py",
   "mimetype": "text/x-python",
   "name": "python",
   "nbconvert_exporter": "python",
   "pygments_lexer": "ipython3",
   "version": "3.7.6"
  }
 },
 "nbformat": 4,
 "nbformat_minor": 5
}
