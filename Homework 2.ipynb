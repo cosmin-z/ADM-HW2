{
 "cells": [
  {
   "cell_type": "markdown",
   "id": "accurate-aspect",
   "metadata": {
    "tags": []
   },
   "source": [
    "# **Homework 2-Steam Reviews 2021**\n",
    "## **Research Questions**"
   ]
  },
  {
   "cell_type": "markdown",
   "id": "touched-classification",
   "metadata": {},
   "source": [
    "### [RQ1] Exploratory data analysis\n"
   ]
  },
  {
   "cell_type": "markdown",
   "id": "frequent-navigator",
   "metadata": {},
   "source": [
    "---\n",
    "### [RQ2]"
   ]
  },
  {
   "cell_type": "code",
   "execution_count": null,
   "id": "choice-sunglasses",
   "metadata": {},
   "outputs": [],
   "source": [
    "!pip3 install --upgrade pip\n",
    "!pip install kaggle"
   ]
  },
  {
   "cell_type": "code",
   "execution_count": null,
   "id": "fantastic-pillow",
   "metadata": {},
   "outputs": [],
   "source": [
    "!kaggle datasets download -d najzeko/steam-reviews-2021"
   ]
  },
  {
   "cell_type": "code",
   "execution_count": null,
   "id": "binding-productivity",
   "metadata": {},
   "outputs": [],
   "source": [
    "!unzip steam-reviews-2021.zip"
   ]
  },
  {
   "cell_type": "code",
   "execution_count": null,
   "id": "committed-tonight",
   "metadata": {},
   "outputs": [],
   "source": [
    "!pip3 install matplotlib"
   ]
  },
  {
   "cell_type": "code",
   "execution_count": 5,
   "id": "prescription-battery",
   "metadata": {},
   "outputs": [
    {
     "data": {
      "text/plain": [
       "<AxesSubplot:xlabel='app_name'>"
      ]
     },
     "execution_count": 5,
     "metadata": {},
     "output_type": "execute_result"
    },
    {
     "data": {
      "image/png": "[encoded data removed]",
      "text/plain": [
       "<Figure size 432x288 with 1 Axes>"
      ]
     },
     "metadata": {
      "needs_background": "light"
     },
     "output_type": "display_data"
    }
   ],
   "source": [
    "import pandas as pd\n",
    "%matplotlib inline\n",
    "import matplotlib.pyplot as plt\n",
    "dataset = pd.read_csv('./steam_reviews.csv', header='infer', nrows=2000000)\n",
    "dataset.groupby('app_name').review.count().plot.bar()\n",
    "#I grouped by \"app_name\", selected review column, count the rewivew for the single app and eventually plot them "
   ]
  },
  {
   "cell_type": "code",
   "execution_count": 15,
   "id": "valued-comedy",
   "metadata": {},
   "outputs": [
    {
     "name": "stdout",
     "output_type": "stream",
     "text": [
      "X Rebirth 0.38045\n",
      "Counter-Strike: Source 0.18269\n",
      "Half-Life 2: Episode Two 0.17264\n",
      "Half-Life 0.16240\n",
      "Dead by Daylight 0.16131\n"
     ]
    }
   ],
   "source": [
    "maxScore = dataset.groupby('app_name').weighted_vote_score.mean()\n",
    "topTen = maxScore.sort_values(ascending=False)\n",
    "for i in range(5):\n",
    "    print(topTen.index[i] , format(topTen[i],'.5f'))\n",
    "#through weighted_vote_score I've done the mean. In the end I showed the 5 with the highest rating"
   ]
  },
  {
   "cell_type": "code",
   "execution_count": 34,
   "id": "alleged-organic",
   "metadata": {},
   "outputs": [
    {
     "name": "stdout",
     "output_type": "stream",
     "text": [
      "the application with more recommendations is:  The Witcher 3: Wild Hunt whit 468691\n",
      "the application with fewer recommendations is:  X Rebirth whit 7001\n"
     ]
    }
   ],
   "source": [
    "#I grouped by \"app_name\", I've select just the column with recommended equal to true, selected recommended column, count \n",
    "min = dataset[dataset['recommended'] == True].groupby('app_name').recommended.count()\n",
    "max = dataset[dataset['recommended'] == True].groupby('app_name').recommended.count()\n",
    "print(\"the application with more recommendations is: \", df.idxmax(), \"with\",df.loc[df.idxmax()])\n",
    "print(\"the application with fewer recommendations is: \", df.idxmin(), \"with\",df.loc[df.idxmin()])"
   ]
  },
  {
   "cell_type": "code",
   "execution_count": 104,
   "id": "abroad-detector",
   "metadata": {},
   "outputs": [
    {
     "name": "stdout",
     "output_type": "stream",
     "text": [
      "List of those that have been purchased\n",
      "Counter-Strike: Source : 74817\n",
      "Garry's Mod : 81956\n",
      "Half-Life : 43875\n",
      "Half-Life 2: Episode Two : 17538\n",
      "Portal 2 : 182952\n",
      "The Witcher 3: Wild Hunt : 429409\n",
      "X Rebirth : 4934\n",
      "\n",
      "List of those that have been received for free\n",
      "Counter-Strike: Source : 5082\n",
      "Garry's Mod : 4626\n",
      "Half-Life : 2799\n",
      "Half-Life 2: Episode Two : 897\n",
      "Portal 2 : 5779\n",
      "The Witcher 3: Wild Hunt : 5748\n",
      "X Rebirth : 35\n"
     ]
    }
   ],
   "source": [
    "purchase = dataset[dataset['steam_purchase'] == True].groupby('app_name').steam_purchase.value_counts()\n",
    "purchase_free = dataset[dataset['received_for_free'] == True].groupby('app_name').received_for_free.value_counts()\n",
    "print(\"List of those that have been purchased\")\n",
    "for i in range(len(purchase)):\n",
    "    print(purchase.index[i][0], \":\", purchase[i])\n",
    "print(\"\\nList of those that have been received for free\")\n",
    "for i in range(len(purchase)):\n",
    "    print(purchase_free.index[i][0], \":\", purchase_free[i])\n"
   ]
  },
  {
   "cell_type": "code",
   "execution_count": null,
   "id": "purple-pittsburgh",
   "metadata": {},
   "outputs": [],
   "source": []
  },
  {
   "cell_type": "markdown",
   "id": "selective-aluminum",
   "metadata": {},
   "source": [
    "---\n",
    "### [RQ3]"
   ]
  },
  {
   "cell_type": "code",
   "execution_count": 122,
   "id": "painful-bradley",
   "metadata": {},
   "outputs": [],
   "source": [
    "import pandas as pd"
   ]
  },
  {
   "cell_type": "code",
   "execution_count": 123,
   "id": "french-street",
   "metadata": {},
   "outputs": [],
   "source": [
    "# We will use the parser seen during lectures \n",
    "def dateparse(time_in_secs):\n",
    "    return pd.to_datetime(time_in_secs, unit='s')"
   ]
  },
  {
   "cell_type": "code",
   "execution_count": 124,
   "id": "lesser-going",
   "metadata": {},
   "outputs": [],
   "source": [
    "steam_small = pd.read_csv('C:/Users/Filippo/Desktop/università/ADM/steam_reviews.csv',header='infer',parse_dates=['timestamp_created','timestamp_updated', 'author.last_played'],date_parser=dateparse)"
   ]
  },
  {
   "cell_type": "code",
   "execution_count": 125,
   "id": "settled-legislature",
   "metadata": {},
   "outputs": [
    {
     "name": "stdout",
     "output_type": "stream",
     "text": [
      "most common time of writing: 15:54:53 \n",
      "number of occurrences: 583\n"
     ]
    }
   ],
   "source": [
    "# With a simple query we isolate the feature we need, excluding the date part and with value_counts() we group the creation variable\n",
    "creation = steam_small.timestamp_created.dt.time\n",
    "print(\"Most common time of writing:\",creation.value_counts().index[0],\"\\nNumber of occurrences:\", creation.value_counts()[0])"
   ]
  },
  {
   "cell_type": "code",
   "execution_count": 126,
   "id": "verbal-shore",
   "metadata": {},
   "outputs": [],
   "source": [
    "def rev_counts(time_intervals):\n",
    "    # First we ccreate the variable of interest\n",
    "    hours = steam_small.timestamp_created.dt.hour\n",
    "    # Then a long procedure to engineer the input: parse, extract hours and sort. At last we append 24 to include reviews written between 8 pm and 12 pm\n",
    "    time_intervals = pd.Series(time_intervals)\n",
    "    time_intervals = pd.to_datetime(time_intervals,infer_datetime_format=True)\n",
    "    time_intervals = time_intervals.dt.hour\n",
    "    time_intervals = sorted(time_intervals)\n",
    "    time_intervals.append(24)\n",
    "    # We then bin the variable of interest with the newly created bins, group the results and plot \n",
    "    bins = pd.cut(hours,time_intervals)\n",
    "    return bins.value_counts(sort=False).plot(kind='bar',title='Number of reviews by time interval',colormap='plasma',grid=True,rot=45)\n",
    "    "
   ]
  },
  {
   "cell_type": "code",
   "execution_count": 127,
   "id": "senior-vertex",
   "metadata": {},
   "outputs": [
    {
     "data": {
      "text/plain": [
       "<AxesSubplot:title={'center':'Number of reviews by time interval'}>"
      ]
     },
     "execution_count": 127,
     "metadata": {},
     "output_type": "execute_result"
    },
    {
     "data": {
      "image/png": "[encoded data removed]",
      "text/plain": [
       "<Figure size 432x288 with 1 Axes>"
      ]
     },
     "metadata": {
      "needs_background": "light"
     },
     "output_type": "display_data"
    }
   ],
   "source": [
    "times = ['06:00:00','11:00:00','14:00:00','17:00:00','20:00:00','00:00:00','03:00:00']\n",
    "rev_counts(times)"
   ]
  },
  {
   "cell_type": "markdown",
   "id": "atmospheric-military",
   "metadata": {},
   "source": [
    "---\n",
    "### [RQ4]"
   ]
  },
  {
   "cell_type": "code",
   "execution_count": 1,
   "id": "korean-workshop",
   "metadata": {},
   "outputs": [],
   "source": [
    "import pandas as pd"
   ]
  },
  {
   "cell_type": "code",
   "execution_count": 2,
   "id": "russian-atlantic",
   "metadata": {},
   "outputs": [],
   "source": [
    "dataset = pd.read_csv('steam_reviews.csv', header='infer',usecols = ['language', 'votes_funny', 'votes_helpful'])"
   ]
  },
  {
   "cell_type": "code",
   "execution_count": 3,
   "id": "adopted-usage",
   "metadata": {},
   "outputs": [
    {
     "name": "stdout",
     "output_type": "stream",
     "text": [
      "english schinese russian\n"
     ]
    }
   ],
   "source": [
    "top_language_n = 3\n",
    "top_language = dataset.loc[:,'language'].value_counts()\n",
    "[:top_language_n].sort_values(ascending=False)\n",
    "print(*top_language.index.array)"
   ]
  },
  {
   "cell_type": "code",
   "execution_count": 4,
   "id": "exposed-nigeria",
   "metadata": {},
   "outputs": [],
   "source": [
    "def language_fillter(dataset, languages):\n",
    "    cmlg = pd.DataFrame(columns=dataset.columns.values) \n",
    "    for lg in languages:\n",
    "        cmlg = cmlg.append(dataset[dataset.language == lg])\n",
    "    return cmlg\n",
    "        "
   ]
  },
  {
   "cell_type": "code",
   "execution_count": 5,
   "id": "worthy-archive",
   "metadata": {},
   "outputs": [
    {
     "name": "stdout",
     "output_type": "stream",
     "text": [
      "12.208323618618321\n"
     ]
    }
   ],
   "source": [
    "tr = language_fillter(dataset, top_language.index.array)\n",
    "result = tr[tr.votes_funny > 0]\n",
    "print((len(result)/len(tr))*100)"
   ]
  },
  {
   "cell_type": "code",
   "execution_count": 6,
   "id": "accepted-hollow",
   "metadata": {},
   "outputs": [
    {
     "name": "stdout",
     "output_type": "stream",
     "text": [
      "29.162723635279374\n"
     ]
    }
   ],
   "source": [
    "result = tr[tr.votes_helpful > 0]\n",
    "print((len(result)/len(tr))*100)"
   ]
  },
  {
   "cell_type": "markdown",
   "id": "nervous-sentence",
   "metadata": {},
   "source": [
    "---\n",
    "### [RQ5]"
   ]
  },
  {
   "cell_type": "code",
   "execution_count": 6,
   "id": "sized-ministry",
   "metadata": {},
   "outputs": [
    {
     "data": {
      "text/plain": [
       "author.steamid\n",
       "76561197974092119    24206\n",
       "76561198116879965    23975\n",
       "76561198125392509    20944\n",
       "76561197960373660    20685\n",
       "76561198045381877    16624\n",
       "76561198094803808    15752\n",
       "76561198030784015    13891\n",
       "76561198118629775    13738\n",
       "76561198013146396    11489\n",
       "76561198191189787    11027\n",
       "Name: author.num_reviews, dtype: int64"
      ]
     },
     "execution_count": 6,
     "metadata": {},
     "output_type": "execute_result"
    }
   ],
   "source": [
    "import pandas as pd\n",
    "%matplotlib inline\n",
    "import matplotlib.pyplot as plt\n",
    "dataset = pd.read_csv('./steam_reviews.csv', header='infer', nrows=2000000)\n",
    "df = dataset.groupby('author.steamid')['author.num_reviews'].sum() \n",
    "df.sort_values(ascending=False).head(10)"
   ]
  },
  {
   "cell_type": "code",
   "execution_count": 7,
   "id": "standing-cooperative",
   "metadata": {},
   "outputs": [
    {
     "data": {
      "text/plain": [
       "468155    The Witcher 3: Wild Hunt\n",
       "522006                   Half-Life\n",
       "574858      Counter-Strike: Source\n",
       "655868    Half-Life 2: Episode Two\n",
       "896474                    Portal 2\n",
       "Name: app_name, dtype: object"
      ]
     },
     "execution_count": 7,
     "metadata": {},
     "output_type": "execute_result"
    }
   ],
   "source": [
    "mostPopularAuthor = df.sort_values(ascending=False).head(10).idxmax()\n",
    "pd.set_option('display.max_rows', None)\n",
    "dataset[dataset['author.steamid'] == mostPopularAuthor].app_name.head()\n",
    "#the first line si the id"
   ]
  },
  {
   "cell_type": "code",
   "execution_count": 159,
   "id": "linear-tension",
   "metadata": {},
   "outputs": [
    {
     "name": "stdout",
     "output_type": "stream",
     "text": [
      "number of applications purchased :  0 in percentage 0.00 %\n",
      "number of applications purchased for free:  2 in percentage 28.57 %\n"
     ]
    }
   ],
   "source": [
    "countNumber = dataset[(dataset['author.steamid'] == mostPopularAuthor)].steam_purchase.value_counts()\n",
    "perctNumber = dataset[(dataset['author.steamid'] == mostPopularAuthor)].steam_purchase.value_counts(normalize=True) * 100\n",
    "if(True in countNumber):\n",
    "    countNumber = countNumber.loc[countNumber.index == True].item()\n",
    "    perctNumber = perctNumber.loc[perctNumber.index == True].item()\n",
    "else:\n",
    "    countNumber = 0\n",
    "    perctNumber = 0\n",
    "print('number of applications purchased : ', countNumber , 'in percentage', format(perctNumber, '.2f') , '%')\n",
    "\n",
    "countNumber = dataset[(dataset['author.steamid'] == mostPopularAuthor)].received_for_free.value_counts()\n",
    "perctNumber = dataset[(dataset['author.steamid'] == mostPopularAuthor)].received_for_free.value_counts(normalize=True) * 100\n",
    "if(True in countNumber):\n",
    "    countNumber = countNumber.loc[countNumber.index == True].item()\n",
    "    perctNumber = perctNumber.loc[perctNumber.index == True].item()\n",
    "else:\n",
    "    countNumber = 0\n",
    "    perctNumber = 0\n",
    "print('number of applications purchased for free: ', countNumber , 'in percentage', format(perctNumber, '.2f') , '%')\n",
    "\n"
   ]
  },
  {
   "cell_type": "code",
   "execution_count": 233,
   "id": "spiritual-skill",
   "metadata": {},
   "outputs": [
    {
     "name": "stdout",
     "output_type": "stream",
     "text": [
      "of the applications purchased 1 was/were positively reviewed \n",
      "\n",
      "of the applications purchased 2 was/were negatively reviewed\n"
     ]
    }
   ],
   "source": [
    "reviewNumber = dataset[(dataset['author.steamid'] == 76561198030784015 ) & (dataset['steam_purchase']==False)].recommended.value_counts()\n",
    "if(True in reviewNumber.loc[reviewNumber.index == True]):\n",
    "    positive = reviewNumber.loc[reviewNumber.index == True].item()\n",
    "else:\n",
    "    positive = 0\n",
    "if(False in reviewNumber.loc[reviewNumber.index == False]):\n",
    "    negative = reviewNumber.loc[reviewNumber.index == False].item()\n",
    "else:\n",
    "    negative = 0\n",
    "\n",
    "print('of the applications purchased', positive ,'was/were positively reviewed \\n')\n",
    "print('of the applications purchased', negative ,'was/were negatively reviewed')"
   ]
  },
  {
   "cell_type": "markdown",
   "id": "proud-pattern",
   "metadata": {},
   "source": [
    "---\n",
    "### [RQ6]"
   ]
  },
  {
   "cell_type": "code",
   "execution_count": 30,
   "id": "useful-internet",
   "metadata": {},
   "outputs": [],
   "source": [
    "import pandas as pd"
   ]
  },
  {
   "cell_type": "code",
   "execution_count": 31,
   "id": "fluid-fifty",
   "metadata": {},
   "outputs": [],
   "source": [
    "# We will use the parser seen during lectures \n",
    "def dateparse(time_in_secs):\n",
    "    return pd.to_datetime(time_in_secs, unit='s')"
   ]
  },
  {
   "cell_type": "code",
   "execution_count": 32,
   "id": "athletic-contest",
   "metadata": {},
   "outputs": [],
   "source": [
    "dataset = pd.read_csv('steam_reviews.csv', header='infer',usecols = ['timestamp_created', 'timestamp_updated', 'author.steamid'])"
   ]
  },
  {
   "cell_type": "code",
   "execution_count": 33,
   "id": "trying-southwest",
   "metadata": {},
   "outputs": [
    {
     "name": "stdout",
     "output_type": "stream",
     "text": [
      "36 days 03:33:10.465411\n"
     ]
    }
   ],
   "source": [
    "dataset['avg'] = dateparse(dataset['timestamp_updated']) - dateparse(dataset['timestamp_created'])\n",
    "print(dataset['avg'].mean())"
   ]
  },
  {
   "cell_type": "code",
   "execution_count": 35,
   "id": "hired-watch",
   "metadata": {},
   "outputs": [
    {
     "name": "stdout",
     "output_type": "stream",
     "text": [
      "76561198062813911 76561198315585536 76561198192166873\n"
     ]
    }
   ],
   "source": [
    "top_language_n = 3\n",
    "top_language = dataset.loc[:,'author.steamid'].value_counts()\n",
    "top_language = top_language[:3].sort_values(ascending=False)\n",
    "print(*top_language.index.array)"
   ]
  },
  {
   "cell_type": "markdown",
   "id": "recognized-customs",
   "metadata": {},
   "source": [
    "---\n",
    "### [RQ7]"
   ]
  },
  {
   "cell_type": "code",
   "execution_count": 36,
   "id": "broken-james",
   "metadata": {},
   "outputs": [],
   "source": [
    "import pandas as pd\n",
    "dataset = pd.read_csv('D:/ADM/steam_reviews.csv', header='infer')"
   ]
  },
  {
   "cell_type": "code",
   "execution_count": 37,
   "id": "statutory-moscow",
   "metadata": {},
   "outputs": [
    {
     "name": "stdout",
     "output_type": "stream",
     "text": [
      "The probability is equal to: 0.21998484322541792\n"
     ]
    }
   ],
   "source": [
    "# We just query the results and sum the boolean values.\n",
    "print(\"The probability is equal to:\",sum(dataset.weighted_vote_score >= 0.5) / len(dataset.weighted_vote_score))\n"
   ]
  },
  {
   "cell_type": "markdown",
   "id": "fresh-citizen",
   "metadata": {},
   "source": [
    "---\n",
    "So the probability of the event \"a review has at least one vote as funny given that the Weighted Vote Score is bigger than 0.5\" given that it is a conditioned prob is equal to: \n",
    "> $P(Exists  funny | wvs > 0.5)=\\frac{P(Exists  funny, wvs > 0.5)}{P(wvs > 0.5)}$ \n",
    "\n",
    "where wvs is weighted_vote_score\n"
   ]
  },
  {
   "cell_type": "code",
   "execution_count": 38,
   "id": "instant-sugar",
   "metadata": {},
   "outputs": [
    {
     "name": "stdout",
     "output_type": "stream",
     "text": [
      "Probability that a review that has a wvs bigger than 0.5 has also at least one vote as funny: 0.24978288914523247\n"
     ]
    }
   ],
   "source": [
    "# P(wvs > 0.5)\n",
    "P_denom = sum(dataset.weighted_vote_score > 0.5) / len(dataset.weighted_vote_score)\n",
    "\n",
    "# P(Exists funny, wvs > 0.5)\n",
    "tmp = dataset[dataset['weighted_vote_score'] > 0.5]\n",
    "event = sum(tmp.votes_funny > 0)\n",
    "P_num = event / len(dataset)\n",
    "# Then we compute P(Exist funny | wvs > 0.5)\n",
    "print(\"Probability that a review that has a wvs bigger than 0.5 has also at least one vote as funny:\", P_num/P_denom)"
   ]
  },
  {
   "cell_type": "markdown",
   "id": "handled-capture",
   "metadata": {},
   "source": [
    "In order to look for independence between 2 events we need to compute the probability of the intersection of these events and if it's equal to the product of the probability of these events then we have independence.\n",
    "> $P(A \\cap B) = P(A)P(B)$"
   ]
  },
  {
   "cell_type": "code",
   "execution_count": 39,
   "id": "intermediate-carpet",
   "metadata": {},
   "outputs": [
    {
     "name": "stdout",
     "output_type": "stream",
     "text": [
      "Q: Are these events independent?\n",
      "A: False\n"
     ]
    }
   ],
   "source": [
    "# as such we already did some of these calculations before\n",
    "# P(wvs > 0.5) is  P_denom\n",
    "# P(Exists funny, wvs > 0.5) is P_num\n",
    "# we need P(Exists funny)\n",
    "P_EF = sum(dataset.votes_funny > 0)/len(dataset)\n",
    "print(\"Q: Are these events independent?\\nA:\",P_num==P_denom*P_EF)"
   ]
  },
  {
   "cell_type": "markdown",
   "id": "clinical-diploma",
   "metadata": {},
   "source": [
    "looks like they aren't :("
   ]
  },
  {
   "cell_type": "markdown",
   "id": "freelance-exclusive",
   "metadata": {},
   "source": [
    "---\n",
    "### [RQ8]"
   ]
  },
  {
   "cell_type": "markdown",
   "id": "uniform-black",
   "metadata": {},
   "source": [
    "In order to test whether the values from the two groupings of the weighted vote score variable come from the same population when we group chinese and russian reviews we want to run a Mann-Whitney test between the two vectors. First we extract these datasets and then we proceed with the analysis thanks to the scipy library "
   ]
  },
  {
   "cell_type": "code",
   "execution_count": 17,
   "id": "normal-harvey",
   "metadata": {},
   "outputs": [],
   "source": [
    "import pandas as pd\n",
    "dataset = pd.read_csv('D:/ADM/steam_reviews.csv', header='infer')"
   ]
  },
  {
   "cell_type": "code",
   "execution_count": 18,
   "id": "fuzzy-flexibility",
   "metadata": {},
   "outputs": [],
   "source": [
    "# data extraction\n",
    "Rus = dataset[dataset['language']=='russian']\n",
    "Chi = dataset[dataset['language']=='schinese']"
   ]
  },
  {
   "cell_type": "code",
   "execution_count": 19,
   "id": "neutral-accident",
   "metadata": {},
   "outputs": [],
   "source": [
    "import scipy.stats"
   ]
  },
  {
   "cell_type": "code",
   "execution_count": 20,
   "id": "related-implement",
   "metadata": {},
   "outputs": [
    {
     "name": "stdout",
     "output_type": "stream",
     "text": [
      "p-value for the U test 0.0\n"
     ]
    }
   ],
   "source": [
    "# we run the test and look whether the p-value is bigger than\n",
    "output = scipy.stats.mannwhitneyu(Rus.weighted_vote_score,Chi.weighted_vote_score,alternative='two-sided')\n",
    "print(\"p-value for the U test\",output.pvalue)"
   ]
  },
  {
   "cell_type": "markdown",
   "id": "seeing-defendant",
   "metadata": {},
   "source": [
    "As expected the two variables have a p-value below 0.05, so we reject the null hypothesis that the two samples come from the same population, for further discussion we will now plot the histograms of the two variables"
   ]
  },
  {
   "cell_type": "code",
   "execution_count": 21,
   "id": "hungarian-nepal",
   "metadata": {},
   "outputs": [],
   "source": [
    "import matplotlib.pyplot as plt"
   ]
  },
  {
   "cell_type": "code",
   "execution_count": 22,
   "id": "superb-beverage",
   "metadata": {},
   "outputs": [
    {
     "data": {
      "image/png": "[encoded data removed]",
      "text/plain": [
       "<Figure size 432x288 with 1 Axes>"
      ]
     },
     "metadata": {
      "needs_background": "light"
     },
     "output_type": "display_data"
    }
   ],
   "source": [
    "plt.hist(Rus.weighted_vote_score)\n",
    "plt.title('Russian weighted vote score')\n",
    "plt.show()"
   ]
  },
  {
   "cell_type": "code",
   "execution_count": 23,
   "id": "vital-result",
   "metadata": {},
   "outputs": [
    {
     "data": {
      "image/png": "[encoded data removed]",
      "text/plain": [
       "<Figure size 432x288 with 1 Axes>"
      ]
     },
     "metadata": {
      "needs_background": "light"
     },
     "output_type": "display_data"
    }
   ],
   "source": [
    "plt.hist(Chi.weighted_vote_score)\n",
    "plt.title('Chinese weighted vote score')\n",
    "plt.show()"
   ]
  },
  {
   "cell_type": "markdown",
   "id": "preceding-consumer",
   "metadata": {},
   "source": [
    "Now, we want to see if there is a relationship between the variables weighted vote score and the time delta between the posting and updating of a review. To do so we look for a summary statistics as the correlation and then we might also try to fit a linear regression model to explain the wvs from the time delta."
   ]
  },
  {
   "cell_type": "code",
   "execution_count": 24,
   "id": "unnecessary-telling",
   "metadata": {},
   "outputs": [
    {
     "name": "stdout",
     "output_type": "stream",
     "text": [
      "Pearson's correlation coefficent is: 0.07204700562301417\n"
     ]
    }
   ],
   "source": [
    "# feature extraction\n",
    "timedelta = dataset.timestamp_updated-dataset.timestamp_created\n",
    "wvs = dataset.weighted_vote_score\n",
    "# Correlation computation\n",
    "cor = scipy.stats.pearsonr(wvs,timedelta)\n",
    "print(\"Pearson's correlation coefficent is:\",cor[0])"
   ]
  },
  {
   "cell_type": "code",
   "execution_count": 25,
   "id": "tracked-second",
   "metadata": {},
   "outputs": [],
   "source": [
    "# This coefficient seems very low, we might want to try a linear model\n",
    "from sklearn.linear_model import LinearRegression\n",
    "import numpy as np"
   ]
  },
  {
   "cell_type": "code",
   "execution_count": 26,
   "id": "welsh-dialogue",
   "metadata": {},
   "outputs": [
    {
     "data": {
      "text/plain": [
       "0.0051907710192479195"
      ]
     },
     "execution_count": 26,
     "metadata": {},
     "output_type": "execute_result"
    }
   ],
   "source": [
    "timedelta = np.array(timedelta)\n",
    "wvs = np.array(wvs)\n",
    "model = LinearRegression()\n",
    "model.fit(timedelta.reshape(-1,1),wvs)\n",
    "slope = model.coef_\n",
    "intercept = model.intercept_ \n",
    "model.score(timedelta.reshape(-1,1),wvs)"
   ]
  },
  {
   "cell_type": "markdown",
   "id": "alone-floating",
   "metadata": {},
   "source": [
    "The R squared for the regression model is very close to zero, signaling no definite relasionship between the two vectors, to further analyze this we plot the data with a scatterplot and add a red line for the regression."
   ]
  },
  {
   "cell_type": "code",
   "execution_count": 27,
   "id": "continuous-linux",
   "metadata": {},
   "outputs": [],
   "source": [
    "def abline(slope, intercept):\n",
    "    \"\"\"Plot a line from slope and intercept\"\"\"\n",
    "    axes = plt.gca()\n",
    "    x_vals = np.array(axes.get_xlim())\n",
    "    y_vals = intercept + slope * x_vals\n",
    "    plt.plot(x_vals, y_vals, '--',lw=3,color='red')"
   ]
  },
  {
   "cell_type": "code",
   "execution_count": 28,
   "id": "sudden-jacket",
   "metadata": {},
   "outputs": [
    {
     "data": {
      "image/png": "[encoded data removed]",
      "text/plain": [
       "<Figure size 432x288 with 1 Axes>"
      ]
     },
     "metadata": {
      "needs_background": "light"
     },
     "output_type": "display_data"
    }
   ],
   "source": [
    "plt.scatter(wvs,timedelta, marker='2', cmap='plasma',alpha=0.4,color='green')\n",
    "abline(slope,intercept)\n",
    "plt.show()"
   ]
  },
  {
   "cell_type": "markdown",
   "id": "scheduled-present",
   "metadata": {},
   "source": [
    "As we can see the line does not fit the data at all and there is no identifiable pattern in the data."
   ]
  },
  {
   "cell_type": "markdown",
   "id": "35737655-8957-4786-9332-9a8995c50a63",
   "metadata": {},
   "source": [
    "To see if there is a substantial change when we divide the dataset in recommended and not recommended review we do the following"
   ]
  },
  {
   "cell_type": "code",
   "execution_count": 29,
   "id": "5ef70e51-a0c7-4379-9960-70c9ff946430",
   "metadata": {},
   "outputs": [],
   "source": [
    "# sub-setting\n",
    "recom = dataset[dataset['recommended']==True]\n",
    "not_recom = dataset[dataset['recommended']!=True]"
   ]
  },
  {
   "cell_type": "markdown",
   "id": "6f51b694-a63c-4302-bd56-b6ebc6d30ac0",
   "metadata": {
    "tags": []
   },
   "source": [
    "#### Recommended"
   ]
  },
  {
   "cell_type": "code",
   "execution_count": 30,
   "id": "61437e79-0199-4192-b9c8-44e034475aab",
   "metadata": {},
   "outputs": [
    {
     "name": "stdout",
     "output_type": "stream",
     "text": [
      "Pearson's correlation coefficent is: 0.07948251790961866\n"
     ]
    }
   ],
   "source": [
    "# feature extraction\n",
    "timedelta = recom.timestamp_updated-recom.timestamp_created\n",
    "wvs = recom.weighted_vote_score\n",
    "# Correlation computation\n",
    "cor = scipy.stats.pearsonr(wvs,timedelta)\n",
    "print(\"Pearson's correlation coefficent is:\",cor[0])"
   ]
  },
  {
   "cell_type": "code",
   "execution_count": 31,
   "id": "50badde8-5787-446e-9ace-bbcb195f24fc",
   "metadata": {},
   "outputs": [],
   "source": [
    "# This coefficient seems very low, we might want to try a linear model\n",
    "from sklearn.linear_model import LinearRegression\n",
    "import numpy as np"
   ]
  },
  {
   "cell_type": "code",
   "execution_count": 32,
   "id": "0da15b81-a7ef-4f32-a062-fde9bd1621d5",
   "metadata": {},
   "outputs": [
    {
     "data": {
      "text/plain": [
       "0.006317470653246393"
      ]
     },
     "execution_count": 32,
     "metadata": {},
     "output_type": "execute_result"
    }
   ],
   "source": [
    "timedelta = np.array(timedelta)\n",
    "wvs = np.array(wvs)\n",
    "model = LinearRegression()\n",
    "model.fit(timedelta.reshape(-1,1),wvs)\n",
    "slope = model.coef_\n",
    "intercept = model.intercept_ \n",
    "model.score(timedelta.reshape(-1,1),wvs)"
   ]
  },
  {
   "cell_type": "markdown",
   "id": "2dce0d47-0317-470b-b887-397b5dc4797a",
   "metadata": {
    "tags": []
   },
   "source": [
    "#### Not Recommended"
   ]
  },
  {
   "cell_type": "code",
   "execution_count": 33,
   "id": "22ebfa14-5679-43d1-b5f8-7bd3fd3b1906",
   "metadata": {},
   "outputs": [
    {
     "name": "stdout",
     "output_type": "stream",
     "text": [
      "Pearson's correlation coefficent is: -0.0017771848851916225\n"
     ]
    }
   ],
   "source": [
    "# feature extraction\n",
    "timedelta = not_recom.timestamp_updated-not_recom.timestamp_created\n",
    "wvs = not_recom.weighted_vote_score\n",
    "# Correlation computation\n",
    "cor = scipy.stats.pearsonr(wvs,timedelta)\n",
    "print(\"Pearson's correlation coefficent is:\",cor[0])"
   ]
  },
  {
   "cell_type": "code",
   "execution_count": 34,
   "id": "6e747437-d29e-4246-a61a-629cb3ab812f",
   "metadata": {},
   "outputs": [],
   "source": [
    "# This coefficient seems very low, we might want to try a linear model\n",
    "from sklearn.linear_model import LinearRegression\n",
    "import numpy as np"
   ]
  },
  {
   "cell_type": "code",
   "execution_count": 35,
   "id": "782c583c-fbfa-4309-9c10-b4c6bcfba6c4",
   "metadata": {},
   "outputs": [
    {
     "data": {
      "text/plain": [
       "3.1583861150874526e-06"
      ]
     },
     "execution_count": 35,
     "metadata": {},
     "output_type": "execute_result"
    }
   ],
   "source": [
    "timedelta = np.array(timedelta)\n",
    "wvs = np.array(wvs)\n",
    "model = LinearRegression()\n",
    "model.fit(timedelta.reshape(-1,1),wvs)\n",
    "slope = model.coef_\n",
    "intercept = model.intercept_ \n",
    "model.score(timedelta.reshape(-1,1),wvs)"
   ]
  },
  {
   "cell_type": "markdown",
   "id": "4996f6c2-05a9-4bee-8a0f-c2f4e3936c81",
   "metadata": {},
   "source": [
    "There appears to be not much difference between the results, the R squared is still very low even considering only recommended or not recommended reviews, so apparently there is no relationship between the variables."
   ]
  }
 ],
 "metadata": {
  "instance_type": "ml.t3.medium",
  "kernelspec": {
   "display_name": "Laboratorio",
   "language": "python",
   "name": "laboratorio"
  },
  "language_info": {
   "codemirror_mode": {
    "name": "ipython",
    "version": 3
   },
   "file_extension": ".py",
   "mimetype": "text/x-python",
   "name": "python",
   "nbconvert_exporter": "python",
   "pygments_lexer": "ipython3",
   "version": "3.9.2"
  }
 },
 "nbformat": 4,
 "nbformat_minor": 5
}
