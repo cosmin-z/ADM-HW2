{
 "cells": [
  {
   "cell_type": "markdown",
   "metadata": {
    "tags": []
   },
   "source": [
    "# **Homework 2-Steam Reviews 2021**\n",
    "## **Research Questions**"
   ]
  },
  {
   "cell_type": "markdown",
   "metadata": {},
   "source": [
    "### [RQ1] Exploratory data analysis\n"
   ]
  },
  {
   "cell_type": "markdown",
   "metadata": {},
   "source": [
    "### [RQ2]"
   ]
  },
  {
   "cell_type": "code",
   "execution_count": null,
   "metadata": {},
   "outputs": [],
   "source": [
    "!pip3 install --upgrade pip\n",
    "!pip install kaggle"
   ]
  },
  {
   "cell_type": "code",
   "execution_count": null,
   "metadata": {},
   "outputs": [],
   "source": [
    "!kaggle datasets download -d najzeko/steam-reviews-2021"
   ]
  },
  {
   "cell_type": "code",
   "execution_count": null,
   "metadata": {},
   "outputs": [],
   "source": [
    "!unzip steam-reviews-2021.zip"
   ]
  },
  {
   "cell_type": "code",
   "execution_count": null,
   "metadata": {},
   "outputs": [],
   "source": [
    "!pip3 install matplotlib"
   ]
  },
  {
   "cell_type": "code",
   "execution_count": 1,
   "metadata": {},
   "outputs": [
    {
     "data": {
      "text/plain": [
       "<matplotlib.axes._subplots.AxesSubplot at 0x7f7985742fd0>"
      ]
     },
     "execution_count": 1,
     "metadata": {},
     "output_type": "execute_result"
    },
    {
     "data": {
      "image/png": "[encoded data removed]",
      "text/plain": [
       "<Figure size 432x288 with 1 Axes>"
      ]
     },
     "metadata": {
      "needs_background": "light"
     },
     "output_type": "display_data"
    }
   ],
   "source": [
    "import pandas as pd\n",
    "%matplotlib inline\n",
    "import matplotlib.pyplot as plt\n",
    "dataset = pd.read_csv('./steam_reviews.csv', header='infer', nrows=2000000)\n",
    "dataset.groupby('app_name').review.count().plot.bar()\n",
    "#I grouped by \"app_name\", selected review column, count the rewivew for the single app and eventually plot them "
   ]
  },
  {
   "cell_type": "code",
   "execution_count": 15,
   "metadata": {},
   "outputs": [
    {
     "name": "stdout",
     "output_type": "stream",
     "text": [
      "X Rebirth 0.38045\n",
      "Counter-Strike: Source 0.18269\n",
      "Half-Life 2: Episode Two 0.17264\n",
      "Half-Life 0.16240\n",
      "Dead by Daylight 0.16131\n"
     ]
    }
   ],
   "source": [
    "maxScore = dataset.groupby('app_name').weighted_vote_score.mean()\n",
    "topTen = maxScore.sort_values(ascending=False)\n",
    "for i in range(5):\n",
    "    print(topTen.index[i] , format(topTen[i],'.5f'))\n",
    "#through weighted_vote_score I've done the mean. In the end I showed the 5 with the highest rating because the request "
   ]
  },
  {
   "cell_type": "code",
   "execution_count": 34,
   "metadata": {},
   "outputs": [
    {
     "name": "stdout",
     "output_type": "stream",
     "text": [
      "the application with more recommendations is:  The Witcher 3: Wild Hunt whit 468691\n",
      "the application with fewer recommendations is:  X Rebirth whit 7001\n"
     ]
    }
   ],
   "source": [
    "#I grouped by \"app_name\", I've select just the column with recommended equal to true, selected recommended column, count \n",
    "min = dataset[dataset['recommended'] == True].groupby('app_name').recommended.count()\n",
    "max = dataset[dataset['recommended'] == True].groupby('app_name').recommended.count()\n",
    "print(\"the application with more recommendations is: \", df.idxmax(), \"whit\",df.loc[df.idxmax()])\n",
    "print(\"the application with fewer recommendations is: \", df.idxmin(), \"whit\",df.loc[df.idxmin()])"
   ]
  },
  {
   "cell_type": "code",
   "execution_count": 104,
   "metadata": {},
   "outputs": [
    {
     "name": "stdout",
     "output_type": "stream",
     "text": [
      "List of those that have been purchased\n",
      "Counter-Strike: Source : 74817\n",
      "Garry's Mod : 81956\n",
      "Half-Life : 43875\n",
      "Half-Life 2: Episode Two : 17538\n",
      "Portal 2 : 182952\n",
      "The Witcher 3: Wild Hunt : 429409\n",
      "X Rebirth : 4934\n",
      "\n",
      "List of those that have been received for free\n",
      "Counter-Strike: Source : 5082\n",
      "Garry's Mod : 4626\n",
      "Half-Life : 2799\n",
      "Half-Life 2: Episode Two : 897\n",
      "Portal 2 : 5779\n",
      "The Witcher 3: Wild Hunt : 5748\n",
      "X Rebirth : 35\n"
     ]
    }
   ],
   "source": [
    "purchase = dataset[dataset['steam_purchase'] == True].groupby('app_name').steam_purchase.value_counts()\n",
    "purchase_free = dataset[dataset['received_for_free'] == True].groupby('app_name').received_for_free.value_counts()\n",
    "print(\"List of those that have been purchased\")\n",
    "for i in range(len(purchase)):\n",
    "    print(purchase.index[i][0], \":\", purchase[i])\n",
    "print(\"\\nList of those that have been received for free\")\n",
    "for i in range(len(purchase)):\n",
    "    print(purchase_free.index[i][0], \":\", purchase_free[i])\n"
   ]
  },
  {
   "cell_type": "code",
   "execution_count": null,
   "metadata": {},
   "outputs": [],
   "source": []
  },
  {
   "cell_type": "markdown",
   "metadata": {},
   "source": [
    "### [RQ3]"
   ]
  },
  {
   "cell_type": "code",
   "execution_count": 122,
   "metadata": {},
   "outputs": [],
   "source": [
    "import pandas as pd"
   ]
  },
  {
   "cell_type": "code",
   "execution_count": 123,
   "metadata": {},
   "outputs": [],
   "source": [
    "# We will use the parser seen during lectures \n",
    "def dateparse(time_in_secs):\n",
    "    return pd.to_datetime(time_in_secs, unit='s')"
   ]
  },
  {
   "cell_type": "code",
   "execution_count": 124,
   "metadata": {},
   "outputs": [],
   "source": [
    "steam_small = pd.read_csv('C:/Users/Filippo/Desktop/università/ADM/steam_reviews.csv',header='infer',parse_dates=['timestamp_created','timestamp_updated', 'author.last_played'],date_parser=dateparse)"
   ]
  },
  {
   "cell_type": "code",
   "execution_count": 125,
   "metadata": {},
   "outputs": [
    {
     "name": "stdout",
     "output_type": "stream",
     "text": [
      "most common time of writing: 15:54:53 \n",
      "number of occurrences: 583\n"
     ]
    }
   ],
   "source": [
    "# With a simple query we isolate the feature we need, excluding the date part and with value_counts() we group the creation variable\n",
    "creation = steam_small.timestamp_created.dt.time\n",
    "print(\"most common time of writing:\",creation.value_counts().index[0],\"\\nnumber of occurrences:\", creation.value_counts()[0])"
   ]
  },
  {
   "cell_type": "code",
   "execution_count": 126,
   "metadata": {},
   "outputs": [],
   "source": [
    "def rev_counts(time_intervals):\n",
    "    # First we ccreate the variable of interest\n",
    "    hours = steam_small.timestamp_created.dt.hour\n",
    "    # Then a long procedure to engineer the input: parse, extract hours and sort. At last we append 24 to include reviews written between 8 pm and 12 pm\n",
    "    time_intervals = pd.Series(time_intervals)\n",
    "    time_intervals = pd.to_datetime(time_intervals,infer_datetime_format=True)\n",
    "    time_intervals = time_intervals.dt.hour\n",
    "    time_intervals = sorted(time_intervals)\n",
    "    time_intervals.append(24)\n",
    "    # We then bin the variable of interest with the newly created bins, group the results and plot \n",
    "    bins = pd.cut(hours,time_intervals)\n",
    "    return bins.value_counts(sort=False).plot(kind='bar',title='Number of reviews by time interval',colormap='plasma',grid=True,rot=45)\n",
    "    "
   ]
  },
  {
   "cell_type": "code",
   "execution_count": 127,
   "metadata": {},
   "outputs": [
    {
     "data": {
      "text/plain": [
       "<AxesSubplot:title={'center':'Number of reviews by time interval'}>"
      ]
     },
     "execution_count": 127,
     "metadata": {},
     "output_type": "execute_result"
    },
    {
     "data": {
      "image/png": "[encoded data removed]",
      "text/plain": [
       "<Figure size 432x288 with 1 Axes>"
      ]
     },
     "metadata": {
      "needs_background": "light"
     },
     "output_type": "display_data"
    }
   ],
   "source": [
    "times = ['06:00:00','11:00:00','14:00:00','17:00:00','20:00:00','00:00:00','03:00:00']\n",
    "rev_counts(times)"
   ]
  },
  {
   "cell_type": "markdown",
   "metadata": {},
   "source": [
    "### [RQ4]"
   ]
  },
  {
   "cell_type": "code",
   "execution_count": 1,
   "metadata": {},
   "outputs": [],
   "source": [
    "import pandas as pd"
   ]
  },
  {
   "cell_type": "code",
   "execution_count": 2,
   "metadata": {},
   "outputs": [],
   "source": [
    "dataset = pd.read_csv('steam_reviews.csv', header='infer', nrows=1000000)"
   ]
  },
  {
   "cell_type": "code",
   "execution_count": 3,
   "metadata": {},
   "outputs": [
    {
     "name": "stdout",
     "output_type": "stream",
     "text": [
      "english russian schinese\n"
     ]
    }
   ],
   "source": [
    "top_language_n = 3\n",
    "top_language = dataset.loc[:,'language'].value_counts()\\\n",
    "[:top_language_n].sort_values(ascending=False)\n",
    "print(*top_language.index.array)"
   ]
  },
  {
   "cell_type": "code",
   "execution_count": 4,
   "metadata": {},
   "outputs": [],
   "source": [
    "def language_fillter(dataset, languages):\n",
    "    cmlg = pd.DataFrame(columns=dataset.columns.values) \n",
    "    for lg in languages:\n",
    "        cmlg = cmlg.append(dataset[dataset.language == lg])\n",
    "    return cmlg\n",
    "        "
   ]
  },
  {
   "cell_type": "code",
   "execution_count": 5,
   "metadata": {},
   "outputs": [
    {
     "name": "stdout",
     "output_type": "stream",
     "text": [
      "9.688186971294103\n"
     ]
    }
   ],
   "source": [
    "tr = language_fillter(dataset, top_language.index.array)\n",
    "result = tr[tr.votes_funny > 0]\n",
    "print((len(result)/len(tr))*100)"
   ]
  },
  {
   "cell_type": "code",
   "execution_count": 6,
   "metadata": {},
   "outputs": [
    {
     "name": "stdout",
     "output_type": "stream",
     "text": [
      "26.138125370351688\n"
     ]
    }
   ],
   "source": [
    "result = tr[tr.votes_helpful > 0]\n",
    "print((len(result)/len(tr))*100)"
   ]
  },
  {
   "cell_type": "markdown",
   "metadata": {},
   "source": [
    "### [RQ5]"
   ]
  },
  {
   "cell_type": "code",
   "execution_count": null,
   "metadata": {},
   "outputs": [],
   "source": [
    "import pandas as pd\n",
    "dataset = pd.read_csv('./steam_reviews.csv', header='infer', nrows=100000)\n",
    "dataset.groupby('author.steamid')[\"author.num_reviews\"].plot.bar()"
   ]
  },
  {
   "cell_type": "markdown",
   "metadata": {},
   "source": [
    "### [RQ6]"
   ]
  },
  {
   "cell_type": "code",
   "execution_count": null,
   "metadata": {},
   "outputs": [],
   "source": []
  }
 ],
 "metadata": {
  "instance_type": "ml.t3.medium",
  "kernelspec": {
   "display_name": "Python 3 (Data Science)",
   "language": "python",
   "name": "python3__SAGEMAKER_INTERNAL__arn:aws:sagemaker:us-east-1:081325390199:image/datascience-1.0"
  },
  "language_info": {
   "codemirror_mode": {
    "name": "ipython",
    "version": 3
   },
   "file_extension": ".py",
   "mimetype": "text/x-python",
   "name": "python",
   "nbconvert_exporter": "python",
   "pygments_lexer": "ipython3",
   "version": "3.7.10"
  }
 },
 "nbformat": 4,
 "nbformat_minor": 5
}
