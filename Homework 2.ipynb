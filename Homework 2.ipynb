{
 "cells": [
  {
   "cell_type": "markdown",
   "metadata": {
    "tags": []
   },
   "source": [
    "# **Homework 2-Steam Reviews 2021**\n",
    "## **Research Questions**"
   ]
  },
  {
   "cell_type": "markdown",
   "metadata": {},
   "source": [
    "### [RQ1] Exploratory data analysis\n"
   ]
  },
  {
   "cell_type": "markdown",
   "metadata": {},
   "source": [
    "### [RQ2]"
   ]
  },
  {
   "cell_type": "code",
   "execution_count": null,
   "metadata": {},
   "outputs": [],
   "source": [
    "!pip3 install --upgrade pip\n",
    "!pip install kaggle"
   ]
  },
  {
   "cell_type": "code",
   "execution_count": null,
   "metadata": {},
   "outputs": [],
   "source": [
    "!kaggle datasets download -d najzeko/steam-reviews-2021"
   ]
  },
  {
   "cell_type": "code",
   "execution_count": null,
   "metadata": {},
   "outputs": [],
   "source": [
    "!unzip steam-reviews-2021.zip"
   ]
  },
  {
   "cell_type": "code",
   "execution_count": null,
   "metadata": {},
   "outputs": [],
   "source": [
    "!pip3 install matplotlib"
   ]
  },
  {
   "cell_type": "code",
   "execution_count": 5,
   "metadata": {},
   "outputs": [
    {
     "data": {
      "text/plain": [
       "<AxesSubplot:xlabel='app_name'>"
      ]
     },
     "execution_count": 5,
     "metadata": {},
     "output_type": "execute_result"
    },
    {
     "data": {
      "image/png": "[encoded data removed]",
      "text/plain": [
       "<Figure size 432x288 with 1 Axes>"
      ]
     },
     "metadata": {
      "needs_background": "light"
     },
     "output_type": "display_data"
    }
   ],
   "source": [
    "import pandas as pd\n",
    "%matplotlib inline\n",
    "import matplotlib.pyplot as plt\n",
    "dataset = pd.read_csv('./steam_reviews.csv', header='infer', nrows=2000000)\n",
    "dataset.groupby('app_name').review.count().plot.bar()\n",
    "#I grouped by \"app_name\", selected review column, count the rewivew for the single app and eventually plot them "
   ]
  },
  {
   "cell_type": "code",
   "execution_count": 15,
   "metadata": {},
   "outputs": [
    {
     "name": "stdout",
     "output_type": "stream",
     "text": [
      "X Rebirth 0.38045\n",
      "Counter-Strike: Source 0.18269\n",
      "Half-Life 2: Episode Two 0.17264\n",
      "Half-Life 0.16240\n",
      "Dead by Daylight 0.16131\n"
     ]
    }
   ],
   "source": [
    "maxScore = dataset.groupby('app_name').weighted_vote_score.mean()\n",
    "topTen = maxScore.sort_values(ascending=False)\n",
    "for i in range(5):\n",
    "    print(topTen.index[i] , format(topTen[i],'.5f'))\n",
    "#through weighted_vote_score I've done the mean. In the end I showed the 5 with the highest rating"
   ]
  },
  {
   "cell_type": "code",
   "execution_count": 34,
   "metadata": {},
   "outputs": [
    {
     "name": "stdout",
     "output_type": "stream",
     "text": [
      "the application with more recommendations is:  The Witcher 3: Wild Hunt whit 468691\n",
      "the application with fewer recommendations is:  X Rebirth whit 7001\n"
     ]
    }
   ],
   "source": [
    "#I grouped by \"app_name\", I've select just the column with recommended equal to true, selected recommended column, count \n",
    "min = dataset[dataset['recommended'] == True].groupby('app_name').recommended.count()\n",
    "max = dataset[dataset['recommended'] == True].groupby('app_name').recommended.count()\n",
    "print(\"the application with more recommendations is: \", df.idxmax(), \"with\",df.loc[df.idxmax()])\n",
    "print(\"the application with fewer recommendations is: \", df.idxmin(), \"with\",df.loc[df.idxmin()])"
   ]
  },
  {
   "cell_type": "code",
   "execution_count": 104,
   "metadata": {},
   "outputs": [
    {
     "name": "stdout",
     "output_type": "stream",
     "text": [
      "List of those that have been purchased\n",
      "Counter-Strike: Source : 74817\n",
      "Garry's Mod : 81956\n",
      "Half-Life : 43875\n",
      "Half-Life 2: Episode Two : 17538\n",
      "Portal 2 : 182952\n",
      "The Witcher 3: Wild Hunt : 429409\n",
      "X Rebirth : 4934\n",
      "\n",
      "List of those that have been received for free\n",
      "Counter-Strike: Source : 5082\n",
      "Garry's Mod : 4626\n",
      "Half-Life : 2799\n",
      "Half-Life 2: Episode Two : 897\n",
      "Portal 2 : 5779\n",
      "The Witcher 3: Wild Hunt : 5748\n",
      "X Rebirth : 35\n"
     ]
    }
   ],
   "source": [
    "purchase = dataset[dataset['steam_purchase'] == True].groupby('app_name').steam_purchase.value_counts()\n",
    "purchase_free = dataset[dataset['received_for_free'] == True].groupby('app_name').received_for_free.value_counts()\n",
    "print(\"List of those that have been purchased\")\n",
    "for i in range(len(purchase)):\n",
    "    print(purchase.index[i][0], \":\", purchase[i])\n",
    "print(\"\\nList of those that have been received for free\")\n",
    "for i in range(len(purchase)):\n",
    "    print(purchase_free.index[i][0], \":\", purchase_free[i])\n"
   ]
  },
  {
   "cell_type": "code",
   "execution_count": null,
   "metadata": {},
   "outputs": [],
   "source": []
  },
  {
   "cell_type": "markdown",
   "metadata": {},
   "source": [
    "### [RQ3]"
   ]
  },
  {
   "cell_type": "code",
   "execution_count": 122,
   "metadata": {},
   "outputs": [],
   "source": [
    "import pandas as pd"
   ]
  },
  {
   "cell_type": "code",
   "execution_count": 123,
   "metadata": {},
   "outputs": [],
   "source": [
    "# We will use the parser seen during lectures \n",
    "def dateparse(time_in_secs):\n",
    "    return pd.to_datetime(time_in_secs, unit='s')"
   ]
  },
  {
   "cell_type": "code",
   "execution_count": 124,
   "metadata": {},
   "outputs": [],
   "source": [
    "steam_small = pd.read_csv('C:/Users/Filippo/Desktop/università/ADM/steam_reviews.csv',header='infer',parse_dates=['timestamp_created','timestamp_updated', 'author.last_played'],date_parser=dateparse)"
   ]
  },
  {
   "cell_type": "code",
   "execution_count": 125,
   "metadata": {},
   "outputs": [
    {
     "name": "stdout",
     "output_type": "stream",
     "text": [
      "most common time of writing: 15:54:53 \n",
      "number of occurrences: 583\n"
     ]
    }
   ],
   "source": [
    "# With a simple query we isolate the feature we need, excluding the date part and with value_counts() we group the creation variable\n",
    "creation = steam_small.timestamp_created.dt.time\n",
    "print(\"Most common time of writing:\",creation.value_counts().index[0],\"\\nNumber of occurrences:\", creation.value_counts()[0])"
   ]
  },
  {
   "cell_type": "code",
   "execution_count": 126,
   "metadata": {},
   "outputs": [],
   "source": [
    "def rev_counts(time_intervals):\n",
    "    # First we ccreate the variable of interest\n",
    "    hours = steam_small.timestamp_created.dt.hour\n",
    "    # Then a long procedure to engineer the input: parse, extract hours and sort. At last we append 24 to include reviews written between 8 pm and 12 pm\n",
    "    time_intervals = pd.Series(time_intervals)\n",
    "    time_intervals = pd.to_datetime(time_intervals,infer_datetime_format=True)\n",
    "    time_intervals = time_intervals.dt.hour\n",
    "    time_intervals = sorted(time_intervals)\n",
    "    time_intervals.append(24)\n",
    "    # We then bin the variable of interest with the newly created bins, group the results and plot \n",
    "    bins = pd.cut(hours,time_intervals)\n",
    "    return bins.value_counts(sort=False).plot(kind='bar',title='Number of reviews by time interval',colormap='plasma',grid=True,rot=45)\n",
    "    "
   ]
  },
  {
   "cell_type": "code",
   "execution_count": 127,
   "metadata": {},
   "outputs": [
    {
     "data": {
      "text/plain": [
       "<AxesSubplot:title={'center':'Number of reviews by time interval'}>"
      ]
     },
     "execution_count": 127,
     "metadata": {},
     "output_type": "execute_result"
    },
    {
     "data": {
      "image/png": "[encoded data removed]",
      "text/plain": [
       "<Figure size 432x288 with 1 Axes>"
      ]
     },
     "metadata": {
      "needs_background": "light"
     },
     "output_type": "display_data"
    }
   ],
   "source": [
    "times = ['06:00:00','11:00:00','14:00:00','17:00:00','20:00:00','00:00:00','03:00:00']\n",
    "rev_counts(times)"
   ]
  },
  {
   "cell_type": "markdown",
   "metadata": {},
   "source": [
    "### [RQ4]"
   ]
  },
  {
   "cell_type": "code",
   "execution_count": 1,
   "metadata": {},
   "outputs": [],
   "source": [
    "import pandas as pd"
   ]
  },
  {
   "cell_type": "code",
   "execution_count": 2,
   "metadata": {},
   "outputs": [],
   "source": [
    "dataset = pd.read_csv('steam_reviews.csv', header='infer', nrows=1000000)"
   ]
  },
  {
   "cell_type": "code",
   "execution_count": 3,
   "metadata": {},
   "outputs": [
    {
     "name": "stdout",
     "output_type": "stream",
     "text": [
      "english russian schinese\n"
     ]
    }
   ],
   "source": [
    "top_language_n = 3\n",
    "top_language = dataset.loc[:,'language'].value_counts()\\\n",
    "[:top_language_n].sort_values(ascending=False)\n",
    "print(*top_language.index.array)"
   ]
  },
  {
   "cell_type": "code",
   "execution_count": 4,
   "metadata": {},
   "outputs": [],
   "source": [
    "def language_fillter(dataset, languages):\n",
    "    cmlg = pd.DataFrame(columns=dataset.columns.values) \n",
    "    for lg in languages:\n",
    "        cmlg = cmlg.append(dataset[dataset.language == lg])\n",
    "    return cmlg\n",
    "        "
   ]
  },
  {
   "cell_type": "code",
   "execution_count": 121,
   "metadata": {},
   "outputs": [
    {
     "ename": "NameError",
     "evalue": "name 'language_fillter' is not defined",
     "output_type": "error",
     "traceback": [
      "\u001b[0;31m---------------------------------------------------------------------------\u001b[0m",
      "\u001b[0;31mNameError\u001b[0m                                 Traceback (most recent call last)",
      "\u001b[0;32m<ipython-input-121-6cb6029e25e4>\u001b[0m in \u001b[0;36m<module>\u001b[0;34m\u001b[0m\n\u001b[0;32m----> 1\u001b[0;31m \u001b[0mtr\u001b[0m \u001b[0;34m=\u001b[0m \u001b[0mlanguage_fillter\u001b[0m\u001b[0;34m(\u001b[0m\u001b[0mdataset\u001b[0m\u001b[0;34m,\u001b[0m \u001b[0mtop_language\u001b[0m\u001b[0;34m.\u001b[0m\u001b[0mindex\u001b[0m\u001b[0;34m.\u001b[0m\u001b[0marray\u001b[0m\u001b[0;34m)\u001b[0m\u001b[0;34m\u001b[0m\u001b[0;34m\u001b[0m\u001b[0m\n\u001b[0m\u001b[1;32m      2\u001b[0m \u001b[0mresult\u001b[0m \u001b[0;34m=\u001b[0m \u001b[0mtr\u001b[0m\u001b[0;34m[\u001b[0m\u001b[0mtr\u001b[0m\u001b[0;34m.\u001b[0m\u001b[0mvotes_funny\u001b[0m \u001b[0;34m>\u001b[0m \u001b[0;36m0\u001b[0m\u001b[0;34m]\u001b[0m\u001b[0;34m\u001b[0m\u001b[0;34m\u001b[0m\u001b[0m\n\u001b[1;32m      3\u001b[0m \u001b[0mprint\u001b[0m\u001b[0;34m(\u001b[0m\u001b[0;34m(\u001b[0m\u001b[0mlen\u001b[0m\u001b[0;34m(\u001b[0m\u001b[0mresult\u001b[0m\u001b[0;34m)\u001b[0m\u001b[0;34m/\u001b[0m\u001b[0mlen\u001b[0m\u001b[0;34m(\u001b[0m\u001b[0mtr\u001b[0m\u001b[0;34m)\u001b[0m\u001b[0;34m)\u001b[0m\u001b[0;34m*\u001b[0m\u001b[0;36m100\u001b[0m\u001b[0;34m)\u001b[0m\u001b[0;34m\u001b[0m\u001b[0;34m\u001b[0m\u001b[0m\n",
      "\u001b[0;31mNameError\u001b[0m: name 'language_fillter' is not defined"
     ]
    }
   ],
   "source": [
    "tr = language_fillter(dataset, top_language.index.array)\n",
    "result = tr[tr.votes_funny > 0]\n",
    "print((len(result)/len(tr))*100)"
   ]
  },
  {
   "cell_type": "code",
   "execution_count": 6,
   "metadata": {},
   "outputs": [
    {
     "name": "stdout",
     "output_type": "stream",
     "text": [
      "26.138125370351688\n"
     ]
    }
   ],
   "source": [
    "result = tr[tr.votes_helpful > 0]\n",
    "print((len(result)/len(tr))*100)"
   ]
  },
  {
   "cell_type": "markdown",
   "metadata": {},
   "source": [
    "### [RQ5]"
   ]
  },
  {
   "cell_type": "code",
   "execution_count": 6,
   "metadata": {},
   "outputs": [
    {
     "data": {
      "text/plain": [
       "author.steamid\n",
       "76561197974092119    24206\n",
       "76561198116879965    23975\n",
       "76561198125392509    20944\n",
       "76561197960373660    20685\n",
       "76561198045381877    16624\n",
       "76561198094803808    15752\n",
       "76561198030784015    13891\n",
       "76561198118629775    13738\n",
       "76561198013146396    11489\n",
       "76561198191189787    11027\n",
       "Name: author.num_reviews, dtype: int64"
      ]
     },
     "execution_count": 6,
     "metadata": {},
     "output_type": "execute_result"
    }
   ],
   "source": [
    "import pandas as pd\n",
    "%matplotlib inline\n",
    "import matplotlib.pyplot as plt\n",
    "dataset = pd.read_csv('./steam_reviews.csv', header='infer', nrows=2000000)\n",
    "df = dataset.groupby('author.steamid')['author.num_reviews'].sum() \n",
    "df.sort_values(ascending=False).head(10)"
   ]
  },
  {
   "cell_type": "code",
   "execution_count": 7,
   "metadata": {},
   "outputs": [
    {
     "data": {
      "text/plain": [
       "468155    The Witcher 3: Wild Hunt\n",
       "522006                   Half-Life\n",
       "574858      Counter-Strike: Source\n",
       "655868    Half-Life 2: Episode Two\n",
       "896474                    Portal 2\n",
       "Name: app_name, dtype: object"
      ]
     },
     "execution_count": 7,
     "metadata": {},
     "output_type": "execute_result"
    }
   ],
   "source": [
    "mostPopularAuthor = df.sort_values(ascending=False).head(10).idxmax()\n",
    "pd.set_option('display.max_rows', None)\n",
    "dataset[dataset['author.steamid'] == mostPopularAuthor].app_name.head()\n",
    "#the first line si the id"
   ]
  },
  {
   "cell_type": "code",
   "execution_count": 159,
   "metadata": {},
   "outputs": [
    {
     "name": "stdout",
     "output_type": "stream",
     "text": [
      "number of applications purchased :  0 in percentage 0.00 %\n",
      "number of applications purchased for free:  2 in percentage 28.57 %\n"
     ]
    }
   ],
   "source": [
    "countNumber = dataset[(dataset['author.steamid'] == mostPopularAuthor)].steam_purchase.value_counts()\n",
    "perctNumber = dataset[(dataset['author.steamid'] == mostPopularAuthor)].steam_purchase.value_counts(normalize=True) * 100\n",
    "if(True in countNumber):\n",
    "    countNumber = countNumber.loc[countNumber.index == True].item()\n",
    "    perctNumber = perctNumber.loc[perctNumber.index == True].item()\n",
    "else:\n",
    "    countNumber = 0\n",
    "    perctNumber = 0\n",
    "print('number of applications purchased : ', countNumber , 'in percentage', format(perctNumber, '.2f') , '%')\n",
    "\n",
    "countNumber = dataset[(dataset['author.steamid'] == mostPopularAuthor)].received_for_free.value_counts()\n",
    "perctNumber = dataset[(dataset['author.steamid'] == mostPopularAuthor)].received_for_free.value_counts(normalize=True) * 100\n",
    "if(True in countNumber):\n",
    "    countNumber = countNumber.loc[countNumber.index == True].item()\n",
    "    perctNumber = perctNumber.loc[perctNumber.index == True].item()\n",
    "else:\n",
    "    countNumber = 0\n",
    "    perctNumber = 0\n",
    "print('number of applications purchased for free: ', countNumber , 'in percentage', format(perctNumber, '.2f') , '%')\n",
    "\n"
   ]
  },
  {
   "cell_type": "code",
   "execution_count": 233,
   "metadata": {},
   "outputs": [
    {
     "name": "stdout",
     "output_type": "stream",
     "text": [
      "of the applications purchased 1 was/were positively reviewed \n",
      "\n",
      "of the applications purchased 2 was/were negatively reviewed\n"
     ]
    }
   ],
   "source": [
    "reviewNumber = dataset[(dataset['author.steamid'] == 76561198030784015 ) & (dataset['steam_purchase']==False)].recommended.value_counts()\n",
    "if(True in reviewNumber.loc[reviewNumber.index == True]):\n",
    "    positive = reviewNumber.loc[reviewNumber.index == True].item()\n",
    "else:\n",
    "    positive = 0\n",
    "if(False in reviewNumber.loc[reviewNumber.index == False]):\n",
    "    negative = reviewNumber.loc[reviewNumber.index == False].item()\n",
    "else:\n",
    "    negative = 0\n",
    "\n",
    "print('of the applications purchased', positive ,'was/were positively reviewed \\n')\n",
    "print('of the applications purchased', negative ,'was/were negatively reviewed')"
   ]
  },
  {
   "cell_type": "markdown",
   "metadata": {},
   "source": [
    "### [RQ6]"
   ]
  },
  {
   "cell_type": "code",
   "execution_count": null,
   "metadata": {},
   "outputs": [],
   "source": []
  },
  {
   "cell_type": "markdown",
   "metadata": {},
   "source": [
    "### [RQ7]"
   ]
  },
  {
   "cell_type": "code",
   "execution_count": 36,
   "metadata": {},
   "outputs": [],
   "source": [
    "import pandas as pd\n",
    "dataset = pd.read_csv('D:/ADM/steam_reviews.csv', header='infer')"
   ]
  },
  {
   "cell_type": "code",
   "execution_count": 37,
   "metadata": {},
   "outputs": [
    {
     "name": "stdout",
     "output_type": "stream",
     "text": [
      "The probability is equal to: 0.21998484322541792\n"
     ]
    }
   ],
   "source": [
    "# We just query the results and sum the boolean values.\n",
    "print(\"The probability is equal to:\",sum(dataset.weighted_vote_score >= 0.5) / len(dataset.weighted_vote_score))\n"
   ]
  },
  {
   "cell_type": "markdown",
   "metadata": {},
   "source": [
    "---\n",
    "So the probability of the event \"a review has at least one vote as funny given that the Weighted Vote Score is bigger than 0.5\" given that it is a conditioned prob is equal to: \n",
    "> $P(Exists  funny | wvs > 0.5)=\\frac{P(Exists  funny, wvs > 0.5)}{P(wvs > 0.5)}$ \n",
    "\n",
    "where wvs is weighted_vote_score\n"
   ]
  },
  {
   "cell_type": "code",
   "execution_count": 38,
   "metadata": {},
   "outputs": [
    {
     "name": "stdout",
     "output_type": "stream",
     "text": [
      "Probability that a review that has a wvs bigger than 0.5 has also at least one vote as funny: 0.24978288914523247\n"
     ]
    }
   ],
   "source": [
    "# P(wvs > 0.5)\n",
    "P_denom = sum(dataset.weighted_vote_score > 0.5) / len(dataset.weighted_vote_score)\n",
    "\n",
    "# P(Exists funny, wvs > 0.5)\n",
    "tmp = dataset[dataset['weighted_vote_score'] > 0.5]\n",
    "event = sum(tmp.votes_funny > 0)\n",
    "P_num = event / len(dataset)\n",
    "# Then we compute P(Exist funny | wvs > 0.5)\n",
    "print(\"Probability that a review that has a wvs bigger than 0.5 has also at least one vote as funny:\", P_num/P_denom)"
   ]
  },
  {
   "cell_type": "markdown",
   "metadata": {},
   "source": [
    "In order to look for independence between 2 events we need to compute the probability of the intersection of these events and if it's equal to the product of the probability of these events then we have independence.\n",
    "> $P(A \\cap B) = P(A)P(B)$"
   ]
  },
  {
   "cell_type": "code",
   "execution_count": 39,
   "metadata": {},
   "outputs": [
    {
     "name": "stdout",
     "output_type": "stream",
     "text": [
      "Q: Are these events independent?\n",
      "A: False\n"
     ]
    }
   ],
   "source": [
    "# as such we already did some of these calculations before\n",
    "# P(wvs > 0.5) is  P_denom\n",
    "# P(Exists funny, wvs > 0.5) is P_num\n",
    "# we need P(Exists funny)\n",
    "P_EF = sum(dataset.votes_funny > 0)/len(dataset)\n",
    "print(\"Q: Are these events independent?\\nA:\",P_num==P_denom*P_EF)"
   ]
  },
  {
   "cell_type": "markdown",
   "metadata": {},
   "source": [
    "looks like they aren't :("
   ]
  },
  {
   "cell_type": "code",
   "execution_count": null,
   "metadata": {},
   "outputs": [],
   "source": []
  }
 ],
 "metadata": {
  "instance_type": "ml.t3.medium",
  "kernelspec": {
   "display_name": "Python 3 (Data Science)",
   "language": "python",
   "name": "python3__SAGEMAKER_INTERNAL__arn:aws:sagemaker:us-east-1:081325390199:image/datascience-1.0"
  },
  "language_info": {
   "codemirror_mode": {
    "name": "ipython",
    "version": 3
   },
   "file_extension": ".py",
   "mimetype": "text/x-python",
   "name": "python",
   "nbconvert_exporter": "python",
   "pygments_lexer": "ipython3",
   "version": "3.7.10"
  }
 },
 "nbformat": 4,
 "nbformat_minor": 5
}
