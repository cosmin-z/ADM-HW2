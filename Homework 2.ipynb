{
 "cells": [
  {
   "cell_type": "markdown",
   "id": "80f8beb3-3925-4155-a127-ac1ce3022c7a",
   "metadata": {
    "tags": []
   },
   "source": [
    "# **Homework 2-Steam Reviews 2021**\n",
    "## **Research Questions**"
   ]
  },
  {
   "cell_type": "markdown",
   "id": "a26b56df-8f86-45d6-8eb9-db0990b43247",
   "metadata": {},
   "source": [
    "### [RQ1] Exploratory data analysis\n"
   ]
  },
  {
   "cell_type": "markdown",
   "id": "f8b59429-9dde-45e1-932c-6553afd5b40c",
   "metadata": {},
   "source": [
    "### [RQ2] "
   ]
  },
  {
   "cell_type": "markdown",
   "id": "fb4cf29d-4eef-453c-9f81-179d8293babd",
   "metadata": {},
   "source": [
    "### [RQ3]"
   ]
  },
  {
   "cell_type": "code",
   "execution_count": 5,
   "id": "23fd3efd-5aa5-47ab-a41f-e8fe308dc3f4",
   "metadata": {},
   "outputs": [],
   "source": [
    "import pandas as pd"
   ]
  },
  {
   "cell_type": "code",
   "execution_count": 6,
   "id": "95f14a0e-e074-4a12-a0ab-ebb5050d97ee",
   "metadata": {},
   "outputs": [],
   "source": [
    "def dateparse(time_in_secs):\n",
    "    return pd.to_datetime(time_in_secs, unit='s')"
   ]
  },
  {
   "cell_type": "code",
   "execution_count": 12,
   "id": "82ec9a60-9e2f-4f0f-9075-58af455353ed",
   "metadata": {},
   "outputs": [],
   "source": [
    "steam_small = pd.read_csv('C:/Users/Filippo/Desktop/università/ADM/steam_reviews.csv',header='infer',nrows=1000000,parse_dates=['timestamp_created','timestamp_updated', 'author.last_played'],date_parser=dateparse)"
   ]
  },
  {
   "cell_type": "code",
   "execution_count": 22,
   "id": "9a1e3c14-8879-4882-9858-26666884d503",
   "metadata": {},
   "outputs": [],
   "source": [
    "creation=steam_small.timestamp_created.dt.time"
   ]
  },
  {
   "cell_type": "code",
   "execution_count": 24,
   "id": "bd5733e6-b8a9-41a0-8d03-de30e6bd7d40",
   "metadata": {},
   "outputs": [
    {
     "data": {
      "text/plain": [
       "15:54:53    38\n",
       "15:00:44    35\n",
       "16:27:39    33\n",
       "20:42:30    32\n",
       "18:39:03    31\n",
       "            ..\n",
       "03:42:22     1\n",
       "01:24:25     1\n",
       "04:02:12     1\n",
       "02:36:50     1\n",
       "04:12:25     1\n",
       "Name: timestamp_created, Length: 86400, dtype: int64"
      ]
     },
     "execution_count": 24,
     "metadata": {},
     "output_type": "execute_result"
    }
   ],
   "source": [
    "creation.value_counts()"
   ]
  },
  {
   "cell_type": "markdown",
   "id": "72135a4a-ee40-4ade-b35d-039e69cbbc73",
   "metadata": {},
   "source": [
    "### [RQ4]"
   ]
  },
  {
   "cell_type": "code",
   "execution_count": null,
   "id": "bb57e6fd-8796-4bc1-ba46-5fafb4773bf7",
   "metadata": {},
   "outputs": [],
   "source": []
  },
  {
   "cell_type": "code",
   "execution_count": null,
   "id": "7a0ea31f-0e19-4b18-b8f9-ff6e414aeb0f",
   "metadata": {},
   "outputs": [],
   "source": []
  },
  {
   "cell_type": "code",
   "execution_count": null,
   "id": "29fdd2ed-f985-430a-abdc-324ee44b1b3f",
   "metadata": {},
   "outputs": [],
   "source": []
  }
 ],
 "metadata": {
  "kernelspec": {
   "display_name": "Laboratorio",
   "language": "python",
   "name": "laboratorio"
  },
  "language_info": {
   "codemirror_mode": {
    "name": "ipython",
    "version": 3
   },
   "file_extension": ".py",
   "mimetype": "text/x-python",
   "name": "python",
   "nbconvert_exporter": "python",
   "pygments_lexer": "ipython3",
   "version": "3.9.2"
  }
 },
 "nbformat": 4,
 "nbformat_minor": 5
}
