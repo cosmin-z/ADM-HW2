{
 "cells": [
  {
   "cell_type": "markdown",
   "id": "protected-western",
   "metadata": {
    "tags": []
   },
   "source": [
    "# **Homework 2-Steam Reviews 2021**\n",
    "## **Research Questions**"
   ]
  },
  {
   "cell_type": "markdown",
   "id": "complete-bermuda",
   "metadata": {},
   "source": [
    "### [RQ1] Exploratory data analysis\n"
   ]
  },
  {
   "cell_type": "markdown",
   "id": "smart-insurance",
   "metadata": {},
   "source": [
    "### [RQ2]"
   ]
  },
  {
   "cell_type": "code",
   "execution_count": null,
   "id": "adverse-farmer",
   "metadata": {},
   "outputs": [],
   "source": [
    "import pandas as pd\n",
    "dataset = pd.read_csv('./steam_reviews.csv', header='infer', nrows=1000)"
   ]
  },
  {
   "cell_type": "code",
   "execution_count": null,
   "id": "substantial-swiss",
   "metadata": {},
   "outputs": [],
   "source": [
    "dataset.groupby('app_name').review.count()"
   ]
  },
  {
   "cell_type": "markdown",
   "id": "rural-bahamas",
   "metadata": {},
   "source": [
    "### [RQ3]"
   ]
  },
  {
   "cell_type": "code",
   "execution_count": 122,
   "id": "amended-nightlife",
   "metadata": {},
   "outputs": [],
   "source": [
    "import pandas as pd"
   ]
  },
  {
   "cell_type": "code",
   "execution_count": 123,
   "id": "tired-dynamics",
   "metadata": {},
   "outputs": [],
   "source": [
    "# We will use the parser seen during lectures \n",
    "def dateparse(time_in_secs):\n",
    "    return pd.to_datetime(time_in_secs, unit='s')"
   ]
  },
  {
   "cell_type": "code",
   "execution_count": 124,
   "id": "composite-musical",
   "metadata": {},
   "outputs": [],
   "source": [
    "steam_small = pd.read_csv('C:/Users/Filippo/Desktop/università/ADM/steam_reviews.csv',header='infer',parse_dates=['timestamp_created','timestamp_updated', 'author.last_played'],date_parser=dateparse)"
   ]
  },
  {
   "cell_type": "code",
   "execution_count": 125,
   "id": "endangered-hierarchy",
   "metadata": {},
   "outputs": [
    {
     "name": "stdout",
     "output_type": "stream",
     "text": [
      "most common time of writing: 15:54:53 \n",
      "number of occurrences: 583\n"
     ]
    }
   ],
   "source": [
    "# With a simple query we isolate the feature we need, excluding the date part and with value_counts() we group the creation variable\n",
    "creation = steam_small.timestamp_created.dt.time\n",
    "print(\"most common time of writing:\",creation.value_counts().index[0],\"\\nnumber of occurrences:\", creation.value_counts()[0])"
   ]
  },
  {
   "cell_type": "code",
   "execution_count": 126,
   "id": "70a6afb7-de51-4548-9c1a-0317deb9299f",
   "metadata": {},
   "outputs": [],
   "source": [
    "def rev_counts(time_intervals):\n",
    "    # First we ccreate the variable of interest\n",
    "    hours = steam_small.timestamp_created.dt.hour\n",
    "    # Then a long procedure to engineer the input: parse, extract hours and sort. At last we append 24 to include reviews written between 8 pm and 12 pm\n",
    "    time_intervals = pd.Series(time_intervals)\n",
    "    time_intervals = pd.to_datetime(time_intervals,infer_datetime_format=True)\n",
    "    time_intervals = time_intervals.dt.hour\n",
    "    time_intervals = sorted(time_intervals)\n",
    "    time_intervals.append(24)\n",
    "    # We then bin the variable of interest with the newly created bins, group the results and plot \n",
    "    bins = pd.cut(hours,time_intervals)\n",
    "    return bins.value_counts(sort=False).plot(kind='bar',title='Number of reviews by time interval',colormap='plasma',grid=True,rot=45)\n",
    "    "
   ]
  },
  {
   "cell_type": "code",
   "execution_count": 127,
   "id": "48518156-d20f-41d1-8431-5c9a2536ccbe",
   "metadata": {},
   "outputs": [
    {
     "data": {
      "text/plain": [
       "<AxesSubplot:title={'center':'Number of reviews by time interval'}>"
      ]
     },
     "execution_count": 127,
     "metadata": {},
     "output_type": "execute_result"
    },
    {
     "data": {
      "image/png": "[encoded data removed]",
      "text/plain": [
       "<Figure size 432x288 with 1 Axes>"
      ]
     },
     "metadata": {
      "needs_background": "light"
     },
     "output_type": "display_data"
    }
   ],
   "source": [
    "times = ['06:00:00','11:00:00','14:00:00','17:00:00','20:00:00','00:00:00','03:00:00']\n",
    "rev_counts(times)"
   ]
  },
  {
   "cell_type": "markdown",
   "id": "painful-announcement",
   "metadata": {},
   "source": [
    "### [RQ4]"
   ]
  },
  {
   "cell_type": "code",
   "execution_count": null,
   "id": "alien-sacrifice",
   "metadata": {},
   "outputs": [],
   "source": []
  },
  {
   "cell_type": "code",
   "execution_count": null,
   "id": "auburn-negative",
   "metadata": {},
   "outputs": [],
   "source": []
  },
  {
   "cell_type": "code",
   "execution_count": null,
   "id": "worst-event",
   "metadata": {},
   "outputs": [],
   "source": []
  }
 ],
 "metadata": {
  "instance_type": "ml.t3.medium",
  "kernelspec": {
   "display_name": "Laboratorio",
   "language": "python",
   "name": "laboratorio"
  },
  "language_info": {
   "codemirror_mode": {
    "name": "ipython",
    "version": 3
   },
   "file_extension": ".py",
   "mimetype": "text/x-python",
   "name": "python",
   "nbconvert_exporter": "python",
   "pygments_lexer": "ipython3",
   "version": "3.9.2"
  }
 },
 "nbformat": 4,
 "nbformat_minor": 5
}
